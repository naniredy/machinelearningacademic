{
  "cells": [
    {
      "metadata": {
        "_cell_guid": "b1076dfc-b9ad-4769-8c92-a6c4dae69d19",
        "_uuid": "8f2839f25d086af736a60e9eeb907d3b93b6e0e5",
        "collapsed": true,
        "trusted": false,
        "id": "zgxxmzma_WQH"
      },
      "cell_type": "code",
      "source": [
        "# Importing libraries\n",
        "import numpy as np\n",
        "import pandas as pd\n",
        "import matplotlib.pyplot as plt\n",
        "import seaborn as sns\n",
        "%matplotlib inline\n",
        "# importing data\n",
        "df = pd.read_csv(\"/input/FAO.csv\",  encoding = \"ISO-8859-1\")\n",
        "pd.options.mode.chained_assignment = None"
      ],
      "execution_count": null,
      "outputs": []
    },
    {
      "metadata": {
        "_cell_guid": "79c7e3d0-c299-4dcb-8224-4455121ee9b0",
        "scrolled": true,
        "_uuid": "d629ff2d2480ee46fbb7e2d37f6b5fab8052498a",
        "trusted": false,
        "collapsed": true,
        "id": "qMRicLQe_WQI"
      },
      "cell_type": "code",
      "source": [
        "df.head()"
      ],
      "execution_count": null,
      "outputs": []
    },
    {
      "metadata": {
        "_cell_guid": "347e620f-b0e4-448e-81c7-e164f560c5a3",
        "scrolled": false,
        "_uuid": "0acdd759950f5df3298224b0804562973663a11d",
        "trusted": false,
        "collapsed": true,
        "id": "MXyzfF5v_WQI"
      },
      "cell_type": "code",
      "source": [
        "area_list = list(df['Area'].unique())\n",
        "year_list = list(df.iloc[:,10:].columns)\n",
        "\n",
        "plt.figure(figsize=(24,12))\n",
        "for ar in area_list:\n",
        "    yearly_produce = []\n",
        "    for yr in year_list:\n",
        "        yearly_produce.append(df[yr][df['Area'] == ar].sum())\n",
        "    plt.plot(yearly_produce, label=ar)\n",
        "plt.xticks(np.arange(53), tuple(year_list), rotation=60)\n",
        "plt.legend(bbox_to_anchor=(0., 1.02, 1., .102), loc=3, ncol=8, mode=\"expand\", borderaxespad=0.)\n",
        "plt.savefig('p.png')\n",
        "plt.show()"
      ],
      "execution_count": null,
      "outputs": []
    },
    {
      "metadata": {
        "_cell_guid": "ec0c911d-e154-4f8a-a79f-ced4896d5115",
        "scrolled": true,
        "_uuid": "683dc56125b3a4c66b1e140098ec91490cbbe96f",
        "trusted": false,
        "collapsed": true,
        "id": "fJH1TxTc_WQJ"
      },
      "cell_type": "code",
      "source": [
        "sns.factorplot(\"Element\", data=df, kind=\"count\")\n",
        "plt.show()"
      ],
      "execution_count": null,
      "outputs": []
    },
    {
      "metadata": {
        "_cell_guid": "0bf44e4e-d4c4-4f74-ae9f-82f52139d182",
        "_uuid": "be1bc3d49c8cee62f48a09ada0db3170adcedc17",
        "trusted": false,
        "collapsed": true,
        "id": "orXnLQIU_WQJ"
      },
      "cell_type": "code",
      "source": [
        "sns.factorplot(\"Area\", data=df[(df['Area'] == \"India\") | (df['Area'] == \"China, mainland\") | (df['Area'] == \"United States of America\")], kind=\"count\", hue=\"Element\", size=8, aspect=.8)"
      ],
      "execution_count": null,
      "outputs": []
    },
    {
      "metadata": {
        "_cell_guid": "c4a5f859-0384-4c8e-b894-3f747aec8cf9",
        "scrolled": true,
        "_uuid": "84dd7a2b601479728dd172d3100951553c2daff5",
        "trusted": false,
        "collapsed": true,
        "id": "kX7ZxAOc_WQJ"
      },
      "cell_type": "code",
      "source": [
        "new_df_dict = {}\n",
        "for ar in area_list:\n",
        "    yearly_produce = []\n",
        "    for yr in year_list:\n",
        "        yearly_produce.append(df[yr][df['Area']==ar].sum())\n",
        "    new_df_dict[ar] = yearly_produce\n",
        "new_df = pd.DataFrame(new_df_dict)\n",
        "\n",
        "new_df.head()"
      ],
      "execution_count": null,
      "outputs": []
    },
    {
      "metadata": {
        "_cell_guid": "15fbe29c-5cea-4ac3-9b95-f92acd89b336",
        "_uuid": "ea48f75e9824a0c4c1a5f19cbd63e59a6cb44fe1",
        "id": "m4EaiEal_WQK"
      },
      "cell_type": "markdown",
      "source": [
        "Now, this is not perfect so we transpose this dataframe and add column names."
      ]
    },
    {
      "metadata": {
        "_cell_guid": "145f751e-4f5b-4811-a68c-9d20b3c36e10",
        "_uuid": "28e765d82bb4ebec3be49200a30fc4e0eabb24d7",
        "trusted": false,
        "collapsed": true,
        "id": "ED6DGzXb_WQK"
      },
      "cell_type": "code",
      "source": [
        "new_df = pd.DataFrame.transpose(new_df)\n",
        "new_df.columns = year_list\n",
        "\n",
        "new_df.head()"
      ],
      "execution_count": null,
      "outputs": []
    },
    {
      "metadata": {
        "_cell_guid": "ab91a322-0cb9-4edf-b5a2-cde82a237824",
        "_uuid": "979f875019abef3ed85af75e000fe59d1de5a381",
        "trusted": false,
        "collapsed": true,
        "id": "p_9PErx4_WQK"
      },
      "cell_type": "code",
      "source": [
        "mean_produce = []\n",
        "for i in range(174):\n",
        "    mean_produce.append(new_df.iloc[i,:].values.mean())\n",
        "new_df['Mean_Produce'] = mean_produce\n",
        "\n",
        "new_df['Rank'] = new_df['Mean_Produce'].rank(ascending=False)\n",
        "\n",
        "new_df.head()"
      ],
      "execution_count": null,
      "outputs": []
    },
    {
      "metadata": {
        "_cell_guid": "bfd692bc-dce4-4870-9ab9-9775cf69a87f",
        "_uuid": "9e11017d381f175eee714643bc5fa763600aaa0b",
        "collapsed": true,
        "trusted": false,
        "id": "YkRDv654_WQK"
      },
      "cell_type": "code",
      "source": [
        "item_list = list(df['Item'].unique())\n",
        "\n",
        "item_df = pd.DataFrame()\n",
        "item_df['Item_Name'] = item_list\n",
        "\n",
        "for yr in year_list:\n",
        "    item_produce = []\n",
        "    for it in item_list:\n",
        "        item_produce.append(df[yr][df['Item']==it].sum())\n",
        "    item_df[yr] = item_produce\n"
      ],
      "execution_count": null,
      "outputs": []
    },
    {
      "metadata": {
        "_cell_guid": "3b7ed0c2-6140-4285-861c-d0cd2324a1f5",
        "_uuid": "cb4641df5ce90f516f88c536e8a6c6870c5b4f65",
        "trusted": false,
        "collapsed": true,
        "id": "QWTt40Fk_WQK"
      },
      "cell_type": "code",
      "source": [
        "item_df.head()"
      ],
      "execution_count": null,
      "outputs": []
    },
    {
      "metadata": {
        "_cell_guid": "3a6bb102-6749-4818-860d-59aaad6de07f",
        "scrolled": true,
        "_uuid": "9e816786e7a161227ae72d164b25c0029e01e5b4",
        "trusted": false,
        "collapsed": true,
        "id": "SRnoJnzj_WQL"
      },
      "cell_type": "code",
      "source": [
        "sum_col = []\n",
        "for i in range(115):\n",
        "    sum_col.append(item_df.iloc[i,1:].values.sum())\n",
        "item_df['Sum'] = sum_col\n",
        "item_df['Production_Rank'] = item_df['Sum'].rank(ascending=False)\n",
        "\n",
        "item_df.head()"
      ],
      "execution_count": null,
      "outputs": []
    },
    {
      "metadata": {
        "_cell_guid": "3130fe83-404c-4b3c-addc-560b2e2f32bf",
        "_uuid": "0403e9ab2e13587588e3a30d64b8b6638571d3d5",
        "trusted": false,
        "collapsed": true,
        "id": "Qflobs9d_WQL"
      },
      "cell_type": "code",
      "source": [
        "item_df['Item_Name'][item_df['Production_Rank'] < 11.0].sort_values()"
      ],
      "execution_count": null,
      "outputs": []
    },
    {
      "metadata": {
        "_cell_guid": "493f9940-1762-4718-acb4-fba5c4c73f4b",
        "_uuid": "f8454c5200bdeb3995b9a0ada3deb5ca1c31f181",
        "trusted": false,
        "collapsed": true,
        "id": "PDZHWMjo_WQL"
      },
      "cell_type": "code",
      "source": [
        "sns.factorplot(\"Item\", data=df[(df['Item']=='Wheat and products') | (df['Item']=='Rice (Milled Equivalent)') | (df['Item']=='Maize and products') | (df['Item']=='Potatoes and products') | (df['Item']=='Vegetables, Other') | (df['Item']=='Milk - Excluding Butter') | (df['Item']=='Cereals - Excluding Beer') | (df['Item']=='Starchy Roots') | (df['Item']=='Vegetables') | (df['Item']=='Fruits - Excluding Wine')], kind=\"count\", hue=\"Element\", size=20, aspect=.8)\n",
        "plt.show()"
      ],
      "execution_count": null,
      "outputs": []
    },
    {
      "metadata": {
        "_cell_guid": "b1bab0ec-6615-452c-8d06-a81d4f2ae252",
        "_uuid": "a2ed2aae2364810ce640648cf50880adcf2cdcc4",
        "trusted": false,
        "collapsed": true,
        "id": "8edqkD5-_WQL"
      },
      "cell_type": "code",
      "source": [
        "year_df = df.iloc[:,10:]\n",
        "fig, ax = plt.subplots(figsize=(16,10))\n",
        "sns.heatmap(year_df.corr(), ax=ax)"
      ],
      "execution_count": null,
      "outputs": []
    },
    {
      "metadata": {
        "_cell_guid": "58cde27d-5ddc-4ebe-a8e1-80a8257f44c1",
        "_uuid": "6f48b52c09ea6a207644044cace5a88c983bf316",
        "trusted": false,
        "collapsed": true,
        "id": "WRBSdv1U_WQM"
      },
      "cell_type": "code",
      "source": [
        "f, ((ax1, ax2), (ax3, ax4)) = plt.subplots(2, 2, sharex='col', sharey='row', figsize=(10,10))\n",
        "ax1.set(xlabel='Y1968', ylabel='Y1961')\n",
        "ax2.set(xlabel='Y1968', ylabel='Y1963')\n",
        "ax3.set(xlabel='Y1968', ylabel='Y1986')\n",
        "ax4.set(xlabel='Y1968', ylabel='Y2013')\n",
        "sns.jointplot(x=\"Y1968\", y=\"Y1961\", data=df, kind=\"reg\", ax=ax1)\n",
        "sns.jointplot(x=\"Y1968\", y=\"Y1963\", data=df, kind=\"reg\", ax=ax2)\n",
        "sns.jointplot(x=\"Y1968\", y=\"Y1986\", data=df, kind=\"reg\", ax=ax3)\n",
        "sns.jointplot(x=\"Y1968\", y=\"Y2013\", data=df, kind=\"reg\", ax=ax4)\n",
        "plt.close(2)\n",
        "plt.close(3)\n",
        "plt.close(4)\n",
        "plt.close(5)"
      ],
      "execution_count": null,
      "outputs": []
    },
    {
      "metadata": {
        "_cell_guid": "588cebd9-e97c-460d-8ed5-e663ac293711",
        "_uuid": "16ce47d43a3038874a74d8bbb9a2e26f6ee54437",
        "trusted": false,
        "collapsed": true,
        "id": "viLP8TA7_WQM"
      },
      "cell_type": "code",
      "source": [
        "new_item_df = item_df.drop([\"Item_Name\",\"Sum\",\"Production_Rank\"], axis = 1)\n",
        "fig, ax = plt.subplots(figsize=(12,24))\n",
        "sns.heatmap(new_item_df,ax=ax)\n",
        "ax.set_yticklabels(item_df.Item_Name.values[::-1])\n",
        "plt.show()"
      ],
      "execution_count": null,
      "outputs": []
    },
    {
      "metadata": {
        "_cell_guid": "a5b99ea8-975f-4467-9895-bffe1db876eb",
        "_uuid": "57aba4000bfc422e848b14ad24b02a570d6c0554",
        "trusted": false,
        "collapsed": true,
        "id": "sf_kZbXb_WQN"
      },
      "cell_type": "code",
      "source": [
        "new_df.head()"
      ],
      "execution_count": null,
      "outputs": []
    },
    {
      "metadata": {
        "_cell_guid": "66964df2-892d-4e55-a4b1-f94d10e4c7dd",
        "_uuid": "19bdd89a3ad9df962959ad6b996946f6f3916d58",
        "trusted": false,
        "collapsed": true,
        "id": "dkybnHOE_WQN"
      },
      "cell_type": "code",
      "source": [
        "X = new_df.iloc[:,:-2].values\n",
        "\n",
        "X = pd.DataFrame(X)\n",
        "X = X.convert_objects(convert_numeric=True)\n",
        "X.columns = year_list"
      ],
      "execution_count": null,
      "outputs": []
    },
    {
      "metadata": {
        "_cell_guid": "06271223-bd32-48ac-a373-6c1e6bbf7c7b",
        "_uuid": "c57d7277510a8c11fdc3d311e4d8a22539617ed9",
        "trusted": false,
        "collapsed": true,
        "id": "adk0xOCV_WQN"
      },
      "cell_type": "code",
      "source": [
        "from sklearn.cluster import KMeans\n",
        "wcss = []\n",
        "for i in range(1,11):\n",
        "    kmeans = KMeans(n_clusters=i,init='k-means++',max_iter=300,n_init=10,random_state=0)\n",
        "    kmeans.fit(X)\n",
        "    wcss.append(kmeans.inertia_)\n",
        "plt.plot(range(1,11),wcss)\n",
        "plt.title('The Elbow Method')\n",
        "plt.xlabel('Number of clusters')\n",
        "plt.ylabel('WCSS')\n",
        "plt.show()"
      ],
      "execution_count": null,
      "outputs": []
    },
    {
      "metadata": {
        "_cell_guid": "eed3f672-e089-4dbb-aad8-b9618967abf3",
        "_uuid": "d92d758ee7213ddcd84e9b8b2f61c9e260ed6ba2",
        "collapsed": true,
        "trusted": false,
        "id": "CCW58h3C_WQN"
      },
      "cell_type": "code",
      "source": [
        "kmeans = KMeans(n_clusters=2,init='k-means++',max_iter=300,n_init=10,random_state=0) \n",
        "y_kmeans = kmeans.fit_predict(X)\n",
        "\n",
        "X = X.as_matrix(columns=None)"
      ],
      "execution_count": null,
      "outputs": []
    },
    {
      "metadata": {
        "_cell_guid": "5a7fe139-13df-453b-8c16-891929bc595e",
        "_uuid": "a57e0a38f4c0f0385be75fd9f71d4a2d8213aea3",
        "collapsed": true,
        "trusted": false,
        "id": "TIB8gBvL_WQO"
      },
      "cell_type": "code",
      "source": [
        "plt.scatter(X[y_kmeans == 0, 0], X[y_kmeans == 0,1],s=100,c='red',label='Others')\n",
        "plt.scatter(X[y_kmeans == 1, 0], X[y_kmeans == 1,1],s=100,c='blue',label='China(mainland),USA,India')\n",
        "plt.scatter(kmeans.cluster_centers_[:,0],kmeans.cluster_centers_[:,1],s=300,c='yellow',label='Centroids')\n",
        "plt.title('Clusters of countries by Productivity')\n",
        "plt.legend()\n",
        "plt.show()"
      ],
      "execution_count": null,
      "outputs": []
    }
  ],
  "metadata": {
    "language_info": {
      "name": "python",
      "version": "3.6.6",
      "mimetype": "text/x-python",
      "codemirror_mode": {
        "name": "ipython",
        "version": 3
      },
      "pygments_lexer": "ipython3",
      "nbconvert_exporter": "python",
      "file_extension": ".py"
    },
    "kernelspec": {
      "display_name": "Python 3",
      "language": "python",
      "name": "python3"
    },
    "colab": {
      "provenance": []
    }
  },
  "nbformat": 4,
  "nbformat_minor": 0
}