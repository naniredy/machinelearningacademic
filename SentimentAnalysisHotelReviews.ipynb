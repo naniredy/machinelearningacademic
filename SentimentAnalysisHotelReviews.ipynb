{
  "cells": [
    {
      "cell_type": "markdown",
      "metadata": {
        "id": "LKz8gxA_-TBX"
      },
      "source": [
        "# Sentiment Analysis on Tourist Accomodation Reviews"
      ]
    },
    {
      "cell_type": "code",
      "execution_count": null,
      "metadata": {
        "colab": {
          "base_uri": "https://localhost:8080/"
        },
        "id": "BciyvlJDEvCo",
        "outputId": "45e06528-fb91-4988-d262-0770207aa187"
      },
      "outputs": [
        {
          "name": "stderr",
          "output_type": "stream",
          "text": [
            "[nltk_data] Downloading package stopwords to\n",
            "[nltk_data]     C:\\Users\\kraca\\AppData\\Roaming\\nltk_data...\n",
            "[nltk_data]   Package stopwords is already up-to-date!\n"
          ]
        }
      ],
      "source": [
        "import nltk\n",
        "import pandas as pd\n",
        "import matplotlib.pyplot as plt\n",
        "nltk.download('stopwords')\n",
        "from nltk.corpus import stopwords\n",
        "import re\n",
        "%matplotlib inline\n",
        "import numpy as np\n",
        "seed_val = 0\n",
        "np.random.seed(seed_val)"
      ]
    },
    {
      "cell_type": "code",
      "execution_count": null,
      "metadata": {
        "id": "a-TkUhy_EvC0"
      },
      "outputs": [],
      "source": [
        "#load the dataset\n",
        "df=pd.read_csv('tripadvisor_hotel_reviews.csv')"
      ]
    },
    {
      "cell_type": "code",
      "execution_count": null,
      "metadata": {
        "colab": {
          "base_uri": "https://localhost:8080/",
          "height": 206
        },
        "id": "0LXclxPkEvC2",
        "outputId": "bd6fe059-626b-45c8-b3cd-e575958ec2b1"
      },
      "outputs": [
        {
          "data": {
            "text/html": [
              "<div>\n",
              "<style scoped>\n",
              "    .dataframe tbody tr th:only-of-type {\n",
              "        vertical-align: middle;\n",
              "    }\n",
              "\n",
              "    .dataframe tbody tr th {\n",
              "        vertical-align: top;\n",
              "    }\n",
              "\n",
              "    .dataframe thead th {\n",
              "        text-align: right;\n",
              "    }\n",
              "</style>\n",
              "<table border=\"1\" class=\"dataframe\">\n",
              "  <thead>\n",
              "    <tr style=\"text-align: right;\">\n",
              "      <th></th>\n",
              "      <th>Review</th>\n",
              "      <th>Rating</th>\n",
              "    </tr>\n",
              "  </thead>\n",
              "  <tbody>\n",
              "    <tr>\n",
              "      <th>0</th>\n",
              "      <td>nice hotel expensive parking got good deal sta...</td>\n",
              "      <td>4</td>\n",
              "    </tr>\n",
              "    <tr>\n",
              "      <th>1</th>\n",
              "      <td>ok nothing special charge diamond member hilto...</td>\n",
              "      <td>2</td>\n",
              "    </tr>\n",
              "    <tr>\n",
              "      <th>2</th>\n",
              "      <td>nice rooms not 4* experience hotel monaco seat...</td>\n",
              "      <td>3</td>\n",
              "    </tr>\n",
              "    <tr>\n",
              "      <th>3</th>\n",
              "      <td>unique, great stay, wonderful time hotel monac...</td>\n",
              "      <td>5</td>\n",
              "    </tr>\n",
              "    <tr>\n",
              "      <th>4</th>\n",
              "      <td>great stay great stay, went seahawk game aweso...</td>\n",
              "      <td>5</td>\n",
              "    </tr>\n",
              "  </tbody>\n",
              "</table>\n",
              "</div>"
            ],
            "text/plain": [
              "                                              Review  Rating\n",
              "0  nice hotel expensive parking got good deal sta...       4\n",
              "1  ok nothing special charge diamond member hilto...       2\n",
              "2  nice rooms not 4* experience hotel monaco seat...       3\n",
              "3  unique, great stay, wonderful time hotel monac...       5\n",
              "4  great stay great stay, went seahawk game aweso...       5"
            ]
          },
          "execution_count": 3,
          "metadata": {},
          "output_type": "execute_result"
        }
      ],
      "source": [
        "#look at the dataset\n",
        "df.head()"
      ]
    },
    {
      "cell_type": "code",
      "execution_count": null,
      "metadata": {
        "colab": {
          "base_uri": "https://localhost:8080/"
        },
        "id": "kY-V1VffEvC9",
        "outputId": "4b3bdce6-001e-4c17-89f3-721266dbddf4"
      },
      "outputs": [
        {
          "data": {
            "text/plain": [
              "20491"
            ]
          },
          "execution_count": 4,
          "metadata": {},
          "output_type": "execute_result"
        }
      ],
      "source": [
        "#look at the numbers of samples\n",
        "len(df)"
      ]
    },
    {
      "cell_type": "code",
      "execution_count": null,
      "metadata": {
        "colab": {
          "base_uri": "https://localhost:8080/"
        },
        "id": "bNUL0x_JdByh",
        "outputId": "e85f9786-dbfb-49fe-e180-bc85699c7c00"
      },
      "outputs": [
        {
          "data": {
            "text/plain": [
              "Review    object\n",
              "Rating     int64\n",
              "dtype: object"
            ]
          },
          "execution_count": 5,
          "metadata": {},
          "output_type": "execute_result"
        }
      ],
      "source": [
        "#look at the data types\n",
        "df.dtypes"
      ]
    },
    {
      "cell_type": "code",
      "execution_count": null,
      "metadata": {
        "id": "UZxUNc45-TBg",
        "outputId": "b874fcce-2afc-4524-bc6f-422e63e9d0a1"
      },
      "outputs": [
        {
          "data": {
            "text/plain": [
              "0"
            ]
          },
          "execution_count": 6,
          "metadata": {},
          "output_type": "execute_result"
        }
      ],
      "source": [
        "#checking that there is no missing data\n",
        "df[\"Review\"].isna().sum()"
      ]
    },
    {
      "cell_type": "code",
      "execution_count": null,
      "metadata": {
        "id": "KyNMBI23-TBg",
        "outputId": "c8884780-0823-46ba-dc40-c1867268a599"
      },
      "outputs": [
        {
          "data": {
            "text/plain": [
              "0"
            ]
          },
          "execution_count": 7,
          "metadata": {},
          "output_type": "execute_result"
        }
      ],
      "source": [
        "#checking that there is no missing data\n",
        "df[\"Rating\"].isna().sum()"
      ]
    },
    {
      "cell_type": "code",
      "execution_count": null,
      "metadata": {
        "colab": {
          "base_uri": "https://localhost:8080/"
        },
        "id": "E3VkeGhgY4hP",
        "outputId": "a41810de-a725-420b-db9b-c5720b0b9edb"
      },
      "outputs": [
        {
          "name": "stdout",
          "output_type": "stream",
          "text": [
            "[1, 2, 3, 4, 5]\n"
          ]
        }
      ],
      "source": [
        "#checking the existing values of 'Rating'\n",
        "print(sorted(df['Rating'].unique()))"
      ]
    },
    {
      "cell_type": "code",
      "execution_count": null,
      "metadata": {
        "colab": {
          "base_uri": "https://localhost:8080/",
          "height": 264
        },
        "id": "a1OvuaTTZKTa",
        "outputId": "b2aef9a6-c22f-4a6f-f9e5-4ed413253e8a"
      },
      "outputs": [
        {
          "data": {
            "image/png": "[encoded data removed]",
            "text/plain": [
              "<Figure size 432x288 with 1 Axes>"
            ]
          },
          "metadata": {},
          "output_type": "display_data"
        }
      ],
      "source": [
        "#looking at the distribution of the different values in rating\n",
        "df['Rating'].value_counts().plot.pie(autopct='%1.1f%%')\n",
        "plt.title('Distribution of the ranking values on the dataset')\n",
        "plt.show()"
      ]
    },
    {
      "cell_type": "code",
      "execution_count": null,
      "metadata": {
        "id": "QwuGZ-qvEvC5"
      },
      "outputs": [],
      "source": [
        "#generate the new 'sentiment' column\n",
        "classification=[]\n",
        "for i in range(len(df)):\n",
        "    if df['Rating'][i]>=4:\n",
        "        rev='Pos'\n",
        "    elif df['Rating'][i]==3:\n",
        "        rev='Neu'\n",
        "    else:\n",
        "        rev='Neg'\n",
        "    classification.append(rev)\n",
        "df['sentiment']=classification"
      ]
    },
    {
      "cell_type": "code",
      "execution_count": null,
      "metadata": {
        "colab": {
          "base_uri": "https://localhost:8080/",
          "height": 206
        },
        "id": "00yQlribEvC7",
        "outputId": "064f2781-772b-453a-b55f-544ab89ba88e"
      },
      "outputs": [
        {
          "data": {
            "text/html": [
              "<div>\n",
              "<style scoped>\n",
              "    .dataframe tbody tr th:only-of-type {\n",
              "        vertical-align: middle;\n",
              "    }\n",
              "\n",
              "    .dataframe tbody tr th {\n",
              "        vertical-align: top;\n",
              "    }\n",
              "\n",
              "    .dataframe thead th {\n",
              "        text-align: right;\n",
              "    }\n",
              "</style>\n",
              "<table border=\"1\" class=\"dataframe\">\n",
              "  <thead>\n",
              "    <tr style=\"text-align: right;\">\n",
              "      <th></th>\n",
              "      <th>Review</th>\n",
              "      <th>Rating</th>\n",
              "      <th>sentiment</th>\n",
              "    </tr>\n",
              "  </thead>\n",
              "  <tbody>\n",
              "    <tr>\n",
              "      <th>0</th>\n",
              "      <td>nice hotel expensive parking got good deal sta...</td>\n",
              "      <td>4</td>\n",
              "      <td>Pos</td>\n",
              "    </tr>\n",
              "    <tr>\n",
              "      <th>1</th>\n",
              "      <td>ok nothing special charge diamond member hilto...</td>\n",
              "      <td>2</td>\n",
              "      <td>Neg</td>\n",
              "    </tr>\n",
              "    <tr>\n",
              "      <th>2</th>\n",
              "      <td>nice rooms not 4* experience hotel monaco seat...</td>\n",
              "      <td>3</td>\n",
              "      <td>Neu</td>\n",
              "    </tr>\n",
              "    <tr>\n",
              "      <th>3</th>\n",
              "      <td>unique, great stay, wonderful time hotel monac...</td>\n",
              "      <td>5</td>\n",
              "      <td>Pos</td>\n",
              "    </tr>\n",
              "    <tr>\n",
              "      <th>4</th>\n",
              "      <td>great stay great stay, went seahawk game aweso...</td>\n",
              "      <td>5</td>\n",
              "      <td>Pos</td>\n",
              "    </tr>\n",
              "  </tbody>\n",
              "</table>\n",
              "</div>"
            ],
            "text/plain": [
              "                                              Review  Rating sentiment\n",
              "0  nice hotel expensive parking got good deal sta...       4       Pos\n",
              "1  ok nothing special charge diamond member hilto...       2       Neg\n",
              "2  nice rooms not 4* experience hotel monaco seat...       3       Neu\n",
              "3  unique, great stay, wonderful time hotel monac...       5       Pos\n",
              "4  great stay great stay, went seahawk game aweso...       5       Pos"
            ]
          },
          "execution_count": 11,
          "metadata": {},
          "output_type": "execute_result"
        }
      ],
      "source": [
        "df.head()"
      ]
    },
    {
      "cell_type": "markdown",
      "metadata": {
        "id": "aLfh9Cxy-TBi"
      },
      "source": [
        "We look back at the distribution of the new feature \"sentiment\""
      ]
    },
    {
      "cell_type": "code",
      "execution_count": null,
      "metadata": {
        "colab": {
          "base_uri": "https://localhost:8080/",
          "height": 264
        },
        "id": "r_lVQBC0EvC-",
        "outputId": "3aa4a80e-3a85-469e-eb77-2f7987182cdd"
      },
      "outputs": [
        {
          "data": {
            "image/png": "[encoded data removed]",
            "text/plain": [
              "<Figure size 432x288 with 1 Axes>"
            ]
          },
          "metadata": {},
          "output_type": "display_data"
        }
      ],
      "source": [
        "df['sentiment'].value_counts().plot.pie(autopct='%1.1f%%')\n",
        "plt.title('Distribution of sentiments on the dataset')\n",
        "plt.savefig('sentimentDistribution.png')\n",
        "plt.show()"
      ]
    },
    {
      "cell_type": "markdown",
      "metadata": {
        "id": "U4HokDyc-TBj"
      },
      "source": [
        "We look at one positive example and one negative example"
      ]
    },
    {
      "cell_type": "code",
      "execution_count": null,
      "metadata": {
        "colab": {
          "base_uri": "https://localhost:8080/"
        },
        "id": "16FiOMs1EvDB",
        "outputId": "a53c8d2a-8cde-49d4-a7a7-5142cf0db6b6"
      },
      "outputs": [
        {
          "name": "stdout",
          "output_type": "stream",
          "text": [
            "nice hotel expensive parking got good deal stay hotel anniversary, arrived late evening took advice previous reviews did valet parking, check quick easy, little disappointed non-existent view room room clean nice size, bed comfortable woke stiff neck high pillows, not soundproof like heard music room night morning loud bangs doors opening closing hear people talking hallway, maybe just noisy neighbors, aveda bath products nice, did not goldfish stay nice touch taken advantage staying longer, location great walking distance shopping, overall nice experience having pay 40 parking night,  \n",
            "Pos\n"
          ]
        }
      ],
      "source": [
        "print(df['Review'][0])\n",
        "print(df['sentiment'][0])"
      ]
    },
    {
      "cell_type": "code",
      "execution_count": null,
      "metadata": {
        "id": "ugD0zqrQ-TBj",
        "outputId": "8fdf7fa2-189b-4d3b-e32e-22c1cce7ceb3"
      },
      "outputs": [
        {
          "name": "stdout",
          "output_type": "stream",
          "text": [
            "ok nothing special charge diamond member hilton decided chain shot 20th anniversary seattle, start booked suite paid extra website description not, suite bedroom bathroom standard hotel room, took printed reservation desk showed said things like tv couch ect desk clerk told oh mixed suites description kimpton website sorry free breakfast, got kidding, embassy suits sitting room bathroom bedroom unlike kimpton calls suite, 5 day stay offer correct false advertising, send kimpton preferred guest website email asking failure provide suite advertised website reservation description furnished hard copy reservation printout website desk manager duty did not reply solution, send email trip guest survey did not follow email mail, guess tell concerned guest.the staff ranged indifferent not helpful, asked desk good breakfast spots neighborhood hood told no hotels, gee best breakfast spots seattle 1/2 block away convenient hotel does not know exist, arrived late night 11 pm inside run bellman busy chating cell phone help bags.prior arrival emailed hotel inform 20th anniversary half really picky wanted make sure good, got nice email saying like deliver bottle champagne chocolate covered strawberries room arrival celebrate, told needed foam pillows, arrival no champagne strawberries no foam pillows great room view alley high rise building good not better housekeeping staff cleaner room property, impressed left morning shopping room got short trips 2 hours, beds comfortable.not good ac-heat control 4 x 4 inch screen bring green shine directly eyes night, light sensitive tape controls.this not 4 start hotel clean business hotel super high rates, better chain hotels seattle,  \n",
            "Neg\n"
          ]
        }
      ],
      "source": [
        "print(df['Review'][1])\n",
        "print(df['sentiment'][1])"
      ]
    },
    {
      "cell_type": "code",
      "execution_count": null,
      "metadata": {
        "id": "uPSsGKGIEvDD"
      },
      "outputs": [],
      "source": [
        "#define the funcrion for initial cleaning\n",
        "def clean_rev_1(text):\n",
        "    text.lower()\n",
        "    #remove everything that are not letters\n",
        "    text=re.sub('[^a-z]', \" \", text)\n",
        "    return text  "
      ]
    },
    {
      "cell_type": "code",
      "execution_count": null,
      "metadata": {
        "id": "2gF4NiZTEvDG"
      },
      "outputs": [],
      "source": [
        "#apply cleaning function to the reviews\n",
        "simple_cleaned_reviews=[clean_rev_1(df['Review'][i]) for i in range(len(df))]"
      ]
    },
    {
      "cell_type": "code",
      "execution_count": null,
      "metadata": {
        "id": "VmmY7gZVEvDI"
      },
      "outputs": [],
      "source": [
        "#store in the same DataFrame\n",
        "df['simple_cleaned_reviews']=simple_cleaned_reviews"
      ]
    },
    {
      "cell_type": "code",
      "execution_count": null,
      "metadata": {
        "colab": {
          "base_uri": "https://localhost:8080/",
          "height": 206
        },
        "id": "CVt8W_M7EvDK",
        "outputId": "ca923846-d05c-4f16-b0fe-d390dd34a71d"
      },
      "outputs": [
        {
          "data": {
            "text/html": [
              "<div>\n",
              "<style scoped>\n",
              "    .dataframe tbody tr th:only-of-type {\n",
              "        vertical-align: middle;\n",
              "    }\n",
              "\n",
              "    .dataframe tbody tr th {\n",
              "        vertical-align: top;\n",
              "    }\n",
              "\n",
              "    .dataframe thead th {\n",
              "        text-align: right;\n",
              "    }\n",
              "</style>\n",
              "<table border=\"1\" class=\"dataframe\">\n",
              "  <thead>\n",
              "    <tr style=\"text-align: right;\">\n",
              "      <th></th>\n",
              "      <th>Review</th>\n",
              "      <th>Rating</th>\n",
              "      <th>sentiment</th>\n",
              "      <th>simple_cleaned_reviews</th>\n",
              "    </tr>\n",
              "  </thead>\n",
              "  <tbody>\n",
              "    <tr>\n",
              "      <th>0</th>\n",
              "      <td>nice hotel expensive parking got good deal sta...</td>\n",
              "      <td>4</td>\n",
              "      <td>Pos</td>\n",
              "      <td>nice hotel expensive parking got good deal sta...</td>\n",
              "    </tr>\n",
              "    <tr>\n",
              "      <th>1</th>\n",
              "      <td>ok nothing special charge diamond member hilto...</td>\n",
              "      <td>2</td>\n",
              "      <td>Neg</td>\n",
              "      <td>ok nothing special charge diamond member hilto...</td>\n",
              "    </tr>\n",
              "    <tr>\n",
              "      <th>2</th>\n",
              "      <td>nice rooms not 4* experience hotel monaco seat...</td>\n",
              "      <td>3</td>\n",
              "      <td>Neu</td>\n",
              "      <td>nice rooms not    experience hotel monaco seat...</td>\n",
              "    </tr>\n",
              "    <tr>\n",
              "      <th>3</th>\n",
              "      <td>unique, great stay, wonderful time hotel monac...</td>\n",
              "      <td>5</td>\n",
              "      <td>Pos</td>\n",
              "      <td>unique  great stay  wonderful time hotel monac...</td>\n",
              "    </tr>\n",
              "    <tr>\n",
              "      <th>4</th>\n",
              "      <td>great stay great stay, went seahawk game aweso...</td>\n",
              "      <td>5</td>\n",
              "      <td>Pos</td>\n",
              "      <td>great stay great stay  went seahawk game aweso...</td>\n",
              "    </tr>\n",
              "  </tbody>\n",
              "</table>\n",
              "</div>"
            ],
            "text/plain": [
              "                                              Review  Rating sentiment  \\\n",
              "0  nice hotel expensive parking got good deal sta...       4       Pos   \n",
              "1  ok nothing special charge diamond member hilto...       2       Neg   \n",
              "2  nice rooms not 4* experience hotel monaco seat...       3       Neu   \n",
              "3  unique, great stay, wonderful time hotel monac...       5       Pos   \n",
              "4  great stay great stay, went seahawk game aweso...       5       Pos   \n",
              "\n",
              "                              simple_cleaned_reviews  \n",
              "0  nice hotel expensive parking got good deal sta...  \n",
              "1  ok nothing special charge diamond member hilto...  \n",
              "2  nice rooms not    experience hotel monaco seat...  \n",
              "3  unique  great stay  wonderful time hotel monac...  \n",
              "4  great stay great stay  went seahawk game aweso...  "
            ]
          },
          "execution_count": 18,
          "metadata": {},
          "output_type": "execute_result"
        }
      ],
      "source": [
        "df.head()"
      ]
    },
    {
      "cell_type": "code",
      "execution_count": null,
      "metadata": {
        "id": "NkpKG8Q0EvDL"
      },
      "outputs": [],
      "source": [
        "#shuffle the data\n",
        "df_shuffled = df.sample(frac=1).reset_index(drop=True)"
      ]
    },
    {
      "cell_type": "code",
      "execution_count": null,
      "metadata": {
        "id": "3kgzCOJLEvDR"
      },
      "outputs": [],
      "source": [
        "#import the relevant libraries\n",
        "from sklearn.feature_extraction.text import TfidfVectorizer\n",
        "from sklearn.naive_bayes import GaussianNB"
      ]
    },
    {
      "cell_type": "code",
      "execution_count": null,
      "metadata": {
        "id": "wo8yOHdKEvDS"
      },
      "outputs": [],
      "source": [
        "#create a bag of words, which is vectorising the data, we will take the 1500 most commmon features\n",
        "vectorised_data=TfidfVectorizer(max_features=1500, stop_words='english').fit_transform(df_shuffled['simple_cleaned_reviews']).toarray()"
      ]
    },
    {
      "cell_type": "code",
      "execution_count": null,
      "metadata": {
        "id": "3c9Sx69wEvDT"
      },
      "outputs": [],
      "source": [
        "#Create an array with the labels\n",
        "labels=df_shuffled['sentiment'].values"
      ]
    },
    {
      "cell_type": "code",
      "execution_count": null,
      "metadata": {
        "id": "FXQmHzVwEvDV"
      },
      "outputs": [],
      "source": [
        "#Define the sentiment labels in 'sentiment order' \n",
        "unique_labels=['Pos', 'Neu','Neg']"
      ]
    },
    {
      "cell_type": "code",
      "execution_count": null,
      "metadata": {
        "id": "AK9GqvN3EvDW"
      },
      "outputs": [],
      "source": [
        "#split the data into train x and y sets and test x and y sets\n",
        "x_train=vectorised_data[:int(len(df)*0.75)]\n",
        "y_train=labels[:int(len(df)*0.75)]\n",
        "x_test=vectorised_data[int(len(df)*0.75):]\n",
        "y_test=labels[int(len(df)*0.75):]"
      ]
    },
    {
      "cell_type": "code",
      "execution_count": null,
      "metadata": {
        "id": "zYZC9RudEvDX"
      },
      "outputs": [],
      "source": [
        "#Define the classifier, train the classifier and get the predicted values for the x test set\n",
        "clf=GaussianNB()\n",
        "clf.fit(x_train, y_train)\n",
        "y_pred=clf.predict(x_test)"
      ]
    },
    {
      "cell_type": "code",
      "execution_count": null,
      "metadata": {
        "colab": {
          "base_uri": "https://localhost:8080/"
        },
        "id": "A_CUPDSUEvDZ",
        "outputId": "3b8b7583-0713-4930-fda6-8d28370fc46d"
      },
      "outputs": [
        {
          "name": "stdout",
          "output_type": "stream",
          "text": [
            "[[2849  691  272]\n",
            " [ 130  241  164]\n",
            " [  43  151  582]]\n"
          ]
        }
      ],
      "source": [
        "#create a confusion matrix\n",
        "from sklearn.metrics import confusion_matrix\n",
        "matrix=confusion_matrix(y_test,y_pred, labels=unique_labels)\n",
        "print(matrix)"
      ]
    },
    {
      "cell_type": "code",
      "execution_count": null,
      "metadata": {
        "colab": {
          "base_uri": "https://localhost:8080/",
          "height": 285
        },
        "id": "tUsAiZ9KEvDb",
        "outputId": "cacb77c2-865a-44cb-a901-99207e72f511"
      },
      "outputs": [
        {
          "data": {
            "image/png": "[encoded data removed]",
            "text/plain": [
              "<Figure size 432x288 with 1 Axes>"
            ]
          },
          "metadata": {},
          "output_type": "display_data"
        }
      ],
      "source": [
        "#visualise the confusion matrix\n",
        "import seaborn as sns\n",
        "sns.set()\n",
        "sns.heatmap(matrix.T, square=True, annot=True, fmt='d', cbar=False,\n",
        "            xticklabels=unique_labels, yticklabels=unique_labels)\n",
        "plt.xlabel('true label')\n",
        "plt.ylabel('predicted label')\n",
        "plt.show()"
      ]
    },
    {
      "cell_type": "code",
      "execution_count": null,
      "metadata": {
        "id": "nxVvq4JJEvDd"
      },
      "outputs": [],
      "source": [
        "#import the specific metrics to meausure\n",
        "from sklearn.metrics import f1_score, accuracy_score"
      ]
    },
    {
      "cell_type": "code",
      "execution_count": null,
      "metadata": {
        "colab": {
          "base_uri": "https://localhost:8080/"
        },
        "id": "6WSbC4mxEvDe",
        "outputId": "dcf6cfcd-f5f2-4957-80d5-2d76f61645a3"
      },
      "outputs": [
        {
          "data": {
            "text/plain": [
              "0.5935001288769658"
            ]
          },
          "execution_count": 29,
          "metadata": {},
          "output_type": "execute_result"
        }
      ],
      "source": [
        "f1_macroNB=f1_score(y_test, y_pred, average='macro')\n",
        "f1_macroNB"
      ]
    },
    {
      "cell_type": "code",
      "execution_count": null,
      "metadata": {
        "colab": {
          "base_uri": "https://localhost:8080/"
        },
        "id": "SWJaYUq2z9Ng",
        "outputId": "2829b6c3-d40c-4a6d-9097-304384938925"
      },
      "outputs": [
        {
          "data": {
            "text/plain": [
              "array([0.64882943, 0.29789864, 0.83377231])"
            ]
          },
          "execution_count": 30,
          "metadata": {},
          "output_type": "execute_result"
        }
      ],
      "source": [
        "f1NB=f1_score(y_test, y_pred, average=None)\n",
        "f1NB"
      ]
    },
    {
      "cell_type": "code",
      "execution_count": null,
      "metadata": {
        "colab": {
          "base_uri": "https://localhost:8080/"
        },
        "id": "m1SBgxHA0ZcT",
        "outputId": "bca6951b-86f7-40ba-b55d-84ab89a35a5d"
      },
      "outputs": [
        {
          "data": {
            "text/plain": [
              "0.7167675190318173"
            ]
          },
          "execution_count": 31,
          "metadata": {},
          "output_type": "execute_result"
        }
      ],
      "source": [
        "accuracyNB=accuracy_score(y_test, y_pred)\n",
        "accuracyNB"
      ]
    },
    {
      "cell_type": "code",
      "execution_count": null,
      "metadata": {
        "colab": {
          "base_uri": "https://localhost:8080/"
        },
        "id": "OwbgfxWREvDl",
        "outputId": "abea3cfd-55c2-422e-8561-d7f840b00d1f"
      },
      "outputs": [
        {
          "name": "stderr",
          "output_type": "stream",
          "text": [
            "[nltk_data] Downloading package word2vec_sample to\n",
            "[nltk_data]     C:\\Users\\kraca\\AppData\\Roaming\\nltk_data...\n",
            "[nltk_data]   Package word2vec_sample is already up-to-date!\n",
            "[nltk_data] Downloading package punkt to\n",
            "[nltk_data]     C:\\Users\\kraca\\AppData\\Roaming\\nltk_data...\n",
            "[nltk_data]   Package punkt is already up-to-date!\n",
            "[nltk_data] Downloading package averaged_perceptron_tagger to\n",
            "[nltk_data]     C:\\Users\\kraca\\AppData\\Roaming\\nltk_data...\n",
            "[nltk_data]   Package averaged_perceptron_tagger is already up-to-\n",
            "[nltk_data]       date!\n"
          ]
        }
      ],
      "source": [
        "#download and import relevant libraries\n",
        "import gensim\n",
        "nltk.download('word2vec_sample')\n",
        "nltk.download('punkt')\n",
        "nltk.download('averaged_perceptron_tagger')\n",
        "# load a pre-build model\n",
        "from nltk.data import find\n",
        "word2vec_sample = str(find('models/word2vec_sample/pruned.word2vec.txt'))\n",
        "news_model = gensim.models.KeyedVectors.load_word2vec_format(word2vec_sample, binary=False)"
      ]
    },
    {
      "cell_type": "code",
      "execution_count": null,
      "metadata": {
        "id": "644LEKX5EvDn"
      },
      "outputs": [],
      "source": [
        "#create a function to add embeddings to the reviews\n",
        "def append_similar_adjectives_to_review(review):\n",
        "    #tag the text\n",
        "    text=nltk.word_tokenize(review)\n",
        "    tags=nltk.pos_tag(text)\n",
        "    #extract adjectives\n",
        "    adjectives=[]\n",
        "    for word, tag in tags:\n",
        "        if tag=='JJ':\n",
        "            adjectives.append(word)\n",
        "    #try to find embedding words for the adjectives        \n",
        "    similars=[]\n",
        "    for adjective in adjectives:\n",
        "        try:\n",
        "            similar, value=news_model.most_similar(positive=[adjective], topn = 1)[0]\n",
        "            similars.append(similar)\n",
        "        except KeyError:\n",
        "            pass\n",
        "    #add embeddings to the review\n",
        "    for word in similars:\n",
        "        review=review+\" \"+word\n",
        "    return review"
      ]
    },
    {
      "cell_type": "code",
      "execution_count": null,
      "metadata": {
        "id": "mN1ZUJo9EvDo"
      },
      "outputs": [],
      "source": [
        "#add the embeddings to each of the reviews\n",
        "reviewes_plus_embedings=[]\n",
        "for i in range(len(df_shuffled)):\n",
        "    reviewes_plus_embedings.append(append_similar_adjectives_to_review(df_shuffled['simple_cleaned_reviews'][i]))"
      ]
    },
    {
      "cell_type": "code",
      "execution_count": null,
      "metadata": {
        "id": "dAX7147fEvDo"
      },
      "outputs": [],
      "source": [
        "df_shuffled['reviews_with_embeddings']=reviewes_plus_embedings"
      ]
    },
    {
      "cell_type": "code",
      "execution_count": null,
      "metadata": {
        "id": "7BxUZPKg-TBm",
        "outputId": "32a28770-66a8-4b8a-95bb-b4028e9e130e"
      },
      "outputs": [
        {
          "name": "stdout",
          "output_type": "stream",
          "text": [
            "Simple cleaned review:\n",
            "clean classy hotel low key exotic elegance absolutely fell love beautiful tastefully appointed hotel heart waikiki  especially fell awesome two story waterfall open air lobby  selling point hotel stay waikiki  room quiet large appointed rattan type furnishings  staff bent backwards helpful good advice restaurants inter island travel attentive needs  hotel unique open air roof elegant designer jewelry shops nice boutiques span blocks  long hallways decorated beautiful asian antiques vases statuettes  place enormous does n t big obtrusive hotel feel like  good restaurants hotel complex serve good food easy access  loved parrots cages placed corridors  got terrific magnificent breakfast plan included free unlimited buffet style japanese continental breakfasts daily hotel price  loved leaving hotel coming elegant charms convenient beach location  tremendous experience no doubt love repeat soon   \n",
            "-----\n",
            "Review with embeddings on adjectives:\n",
            "clean classy hotel low key exotic elegance absolutely fell love beautiful tastefully appointed hotel heart waikiki  especially fell awesome two story waterfall open air lobby  selling point hotel stay waikiki  room quiet large appointed rattan type furnishings  staff bent backwards helpful good advice restaurants inter island travel attentive needs  hotel unique open air roof elegant designer jewelry shops nice boutiques span blocks  long hallways decorated beautiful asian antiques vases statuettes  place enormous does n t big obtrusive hotel feel like  good restaurants hotel complex serve good food easy access  loved parrots cages placed corridors  got terrific magnificent breakfast plan included free unlimited buffet style japanese continental breakfasts daily hotel price  loved leaving hotel coming elegant charms convenient beach location  tremendous experience no doubt love repeat soon    Clean high crucial oriental gorgeous amazing opened calm sizeable useful great interdepartmental traveling courteous opened elegantly good short gorgeous immense huge great complicated great easier fantastic Free limitless continent left elegantly convenience great\n"
          ]
        }
      ],
      "source": [
        "#visualise the change\n",
        "print('Simple cleaned review:')\n",
        "print(df_shuffled['simple_cleaned_reviews'][15])\n",
        "print('-----')\n",
        "print('Review with embeddings on adjectives:')\n",
        "print(df_shuffled['reviews_with_embeddings'][15])"
      ]
    },
    {
      "cell_type": "code",
      "execution_count": null,
      "metadata": {
        "id": "ufo9xvwJEvDp",
        "outputId": "d9c9d53a-a45e-46af-c819-d54fc8f01aaa"
      },
      "outputs": [
        {
          "name": "stderr",
          "output_type": "stream",
          "text": [
            "[nltk_data] Downloading package wordnet to\n",
            "[nltk_data]     C:\\Users\\kraca\\AppData\\Roaming\\nltk_data...\n",
            "[nltk_data]   Package wordnet is already up-to-date!\n"
          ]
        }
      ],
      "source": [
        "from nltk.stem import WordNetLemmatizer\n",
        "from nltk import wordnet\n",
        "nltk.download('wordnet')\n",
        "wnl=WordNetLemmatizer()"
      ]
    },
    {
      "cell_type": "code",
      "execution_count": null,
      "metadata": {
        "id": "WxO3ys25EvDq"
      },
      "outputs": [],
      "source": [
        "def lemmatise_review(review):\n",
        "    word_list = nltk.word_tokenize(review)\n",
        "    lemmatized_review = ' '.join([wnl.lemmatize(w, pos='v') for w in word_list])\n",
        "    return lemmatized_review"
      ]
    },
    {
      "cell_type": "code",
      "execution_count": null,
      "metadata": {
        "id": "QY8e1tFbEvDs"
      },
      "outputs": [],
      "source": [
        "lemmatized_reviewes=[lemmatise_review(df_shuffled['reviews_with_embeddings'][i]) for i in range(len(df_shuffled))]\n",
        "df_shuffled['lemmatized_reviews']=lemmatized_reviewes"
      ]
    },
    {
      "cell_type": "code",
      "execution_count": null,
      "metadata": {
        "id": "69GpX4bW-TBn",
        "outputId": "dbf5c417-770e-4f58-887e-96412b3221aa"
      },
      "outputs": [
        {
          "name": "stdout",
          "output_type": "stream",
          "text": [
            "Review with embeddings on adjectives:\n",
            "clean classy hotel low key exotic elegance absolutely fell love beautiful tastefully appointed hotel heart waikiki  especially fell awesome two story waterfall open air lobby  selling point hotel stay waikiki  room quiet large appointed rattan type furnishings  staff bent backwards helpful good advice restaurants inter island travel attentive needs  hotel unique open air roof elegant designer jewelry shops nice boutiques span blocks  long hallways decorated beautiful asian antiques vases statuettes  place enormous does n t big obtrusive hotel feel like  good restaurants hotel complex serve good food easy access  loved parrots cages placed corridors  got terrific magnificent breakfast plan included free unlimited buffet style japanese continental breakfasts daily hotel price  loved leaving hotel coming elegant charms convenient beach location  tremendous experience no doubt love repeat soon    Clean high crucial oriental gorgeous amazing opened calm sizeable useful great interdepartmental traveling courteous opened elegantly good short gorgeous immense huge great complicated great easier fantastic Free limitless continent left elegantly convenience great\n",
            "-----\n",
            "lemmatised review:\n",
            "clean classy hotel low key exotic elegance absolutely fell love beautiful tastefully appoint hotel heart waikiki especially fell awesome two story waterfall open air lobby sell point hotel stay waikiki room quiet large appoint rattan type furnish staff bend backwards helpful good advice restaurants inter island travel attentive need hotel unique open air roof elegant designer jewelry shop nice boutiques span block long hallways decorate beautiful asian antique vases statuettes place enormous do n t big obtrusive hotel feel like good restaurants hotel complex serve good food easy access love parrot cage place corridors get terrific magnificent breakfast plan include free unlimited buffet style japanese continental breakfast daily hotel price love leave hotel come elegant charm convenient beach location tremendous experience no doubt love repeat soon Clean high crucial oriental gorgeous amaze open calm sizeable useful great interdepartmental travel courteous open elegantly good short gorgeous immense huge great complicate great easier fantastic Free limitless continent leave elegantly convenience great\n"
          ]
        }
      ],
      "source": [
        "print('Review with embeddings on adjectives:')\n",
        "print(df_shuffled['reviews_with_embeddings'][15])\n",
        "print('-----')\n",
        "print('lemmatised review:')\n",
        "print(df_shuffled['lemmatized_reviews'][15])"
      ]
    },
    {
      "cell_type": "code",
      "execution_count": null,
      "metadata": {
        "id": "XHil5z9GEvDu",
        "outputId": "60aa9cf3-d5e4-4e0b-98e6-ba9bc8e8f634"
      },
      "outputs": [
        {
          "data": {
            "text/html": [
              "<div>\n",
              "<style scoped>\n",
              "    .dataframe tbody tr th:only-of-type {\n",
              "        vertical-align: middle;\n",
              "    }\n",
              "\n",
              "    .dataframe tbody tr th {\n",
              "        vertical-align: top;\n",
              "    }\n",
              "\n",
              "    .dataframe thead th {\n",
              "        text-align: right;\n",
              "    }\n",
              "</style>\n",
              "<table border=\"1\" class=\"dataframe\">\n",
              "  <thead>\n",
              "    <tr style=\"text-align: right;\">\n",
              "      <th></th>\n",
              "      <th>Review</th>\n",
              "      <th>Rating</th>\n",
              "      <th>sentiment</th>\n",
              "      <th>simple_cleaned_reviews</th>\n",
              "      <th>reviews_with_embeddings</th>\n",
              "      <th>lemmatized_reviews</th>\n",
              "    </tr>\n",
              "  </thead>\n",
              "  <tbody>\n",
              "    <tr>\n",
              "      <th>0</th>\n",
              "      <td>ehhh better punta cana twice compared hotel st...</td>\n",
              "      <td>2</td>\n",
              "      <td>Neg</td>\n",
              "      <td>ehhh better punta cana twice compared hotel st...</td>\n",
              "      <td>ehhh better punta cana twice compared hotel st...</td>\n",
              "      <td>ehhh better punta cana twice compare hotel sta...</td>\n",
              "    </tr>\n",
              "    <tr>\n",
              "      <th>1</th>\n",
              "      <td>4 n't think, decided book atenea night stay de...</td>\n",
              "      <td>2</td>\n",
              "      <td>Neg</td>\n",
              "      <td>n t think  decided book atenea night stay de...</td>\n",
              "      <td>n t think  decided book atenea night stay de...</td>\n",
              "      <td>n t think decide book atenea night stay decemb...</td>\n",
              "    </tr>\n",
              "    <tr>\n",
              "      <th>2</th>\n",
              "      <td>awesome time just returned vacation fantastic ...</td>\n",
              "      <td>4</td>\n",
              "      <td>Pos</td>\n",
              "      <td>awesome time just returned vacation fantastic ...</td>\n",
              "      <td>awesome time just returned vacation fantastic ...</td>\n",
              "      <td>awesome time just return vacation fantastic ti...</td>\n",
              "    </tr>\n",
              "    <tr>\n",
              "      <th>3</th>\n",
              "      <td>grand oasis wonderful second time, group 20 fr...</td>\n",
              "      <td>5</td>\n",
              "      <td>Pos</td>\n",
              "      <td>grand oasis wonderful second time  group    fr...</td>\n",
              "      <td>grand oasis wonderful second time  group    fr...</td>\n",
              "      <td>grand oasis wonderful second time group friend...</td>\n",
              "    </tr>\n",
              "    <tr>\n",
              "      <th>4</th>\n",
              "      <td>not bad stay stayed hotel family attending jav...</td>\n",
              "      <td>3</td>\n",
              "      <td>Neu</td>\n",
              "      <td>not bad stay stayed hotel family attending jav...</td>\n",
              "      <td>not bad stay stayed hotel family attending jav...</td>\n",
              "      <td>not bad stay stay hotel family attend javaone ...</td>\n",
              "    </tr>\n",
              "  </tbody>\n",
              "</table>\n",
              "</div>"
            ],
            "text/plain": [
              "                                              Review  Rating sentiment  \\\n",
              "0  ehhh better punta cana twice compared hotel st...       2       Neg   \n",
              "1  4 n't think, decided book atenea night stay de...       2       Neg   \n",
              "2  awesome time just returned vacation fantastic ...       4       Pos   \n",
              "3  grand oasis wonderful second time, group 20 fr...       5       Pos   \n",
              "4  not bad stay stayed hotel family attending jav...       3       Neu   \n",
              "\n",
              "                              simple_cleaned_reviews  \\\n",
              "0  ehhh better punta cana twice compared hotel st...   \n",
              "1    n t think  decided book atenea night stay de...   \n",
              "2  awesome time just returned vacation fantastic ...   \n",
              "3  grand oasis wonderful second time  group    fr...   \n",
              "4  not bad stay stayed hotel family attending jav...   \n",
              "\n",
              "                             reviews_with_embeddings  \\\n",
              "0  ehhh better punta cana twice compared hotel st...   \n",
              "1    n t think  decided book atenea night stay de...   \n",
              "2  awesome time just returned vacation fantastic ...   \n",
              "3  grand oasis wonderful second time  group    fr...   \n",
              "4  not bad stay stayed hotel family attending jav...   \n",
              "\n",
              "                                  lemmatized_reviews  \n",
              "0  ehhh better punta cana twice compare hotel sta...  \n",
              "1  n t think decide book atenea night stay decemb...  \n",
              "2  awesome time just return vacation fantastic ti...  \n",
              "3  grand oasis wonderful second time group friend...  \n",
              "4  not bad stay stay hotel family attend javaone ...  "
            ]
          },
          "execution_count": 41,
          "metadata": {},
          "output_type": "execute_result"
        }
      ],
      "source": [
        "df_shuffled.head()"
      ]
    },
    {
      "cell_type": "code",
      "execution_count": null,
      "metadata": {
        "id": "Yc_SZxKVEvDu"
      },
      "outputs": [],
      "source": [
        "vectorised_cured_data=TfidfVectorizer(max_features=1500, stop_words='english').fit_transform(df_shuffled['lemmatized_reviews']).toarray()"
      ]
    },
    {
      "cell_type": "code",
      "execution_count": null,
      "metadata": {
        "id": "ZMsrCLj6EvDv"
      },
      "outputs": [],
      "source": [
        "x_train=vectorised_cured_data[:int(len(df)*0.75)]\n",
        "y_train=labels[:int(len(df)*0.75)]\n",
        "x_test=vectorised_cured_data[int(len(df)*0.75):]\n",
        "y_test=labels[int(len(df)*0.75):]"
      ]
    },
    {
      "cell_type": "code",
      "execution_count": null,
      "metadata": {
        "id": "NrcHcND1hjws",
        "outputId": "cdd56fc6-0811-4bcc-f053-d05ad0747870"
      },
      "outputs": [
        {
          "data": {
            "text/plain": [
              "GaussianNB()"
            ]
          },
          "execution_count": 44,
          "metadata": {},
          "output_type": "execute_result"
        }
      ],
      "source": [
        "#train the model\n",
        "clfGNB=GaussianNB()\n",
        "clfGNB.fit(x_train,y_train)"
      ]
    },
    {
      "cell_type": "code",
      "execution_count": null,
      "metadata": {
        "id": "YuuS61aJh35h",
        "outputId": "20e3f4d7-d0b9-44f1-94b2-730516c51efa"
      },
      "outputs": [
        {
          "data": {
            "image/png": "[encoded data removed]",
            "text/plain": [
              "<Figure size 432x288 with 1 Axes>"
            ]
          },
          "metadata": {},
          "output_type": "display_data"
        }
      ],
      "source": [
        "#get the predictions and generate the matrix\n",
        "y_pred=clfGNB.predict(x_test)\n",
        "matrix1=confusion_matrix(y_test,y_pred, labels=unique_labels)\n",
        "sns.heatmap(matrix1.T, square=True, annot=True, fmt='d', cbar=False,\n",
        "            xticklabels=unique_labels, yticklabels=unique_labels)\n",
        "plt.xlabel('true label')\n",
        "plt.ylabel('predicted label')\n",
        "plt.title('Gausian Naive Bayes model, reviews with embeddings')\n",
        "plt.show()"
      ]
    },
    {
      "cell_type": "code",
      "execution_count": null,
      "metadata": {
        "id": "o7W0byYMjIPp",
        "outputId": "f4770d0f-3809-4d3c-9b07-a21e31902036"
      },
      "outputs": [
        {
          "data": {
            "text/plain": [
              "0.5956777407157473"
            ]
          },
          "execution_count": 46,
          "metadata": {},
          "output_type": "execute_result"
        }
      ],
      "source": [
        "#calculate the evaluation metrics\n",
        "f1_macroGNBEmbeddings=f1_score(y_test, y_pred, average='macro')\n",
        "f1_macroGNBEmbeddings"
      ]
    },
    {
      "cell_type": "code",
      "execution_count": null,
      "metadata": {
        "id": "VNZPmIw-jkXm",
        "outputId": "d648ddf5-8139-4273-dcc3-e83ed1cb17f7"
      },
      "outputs": [
        {
          "data": {
            "text/plain": [
              "0.7146203396447394"
            ]
          },
          "execution_count": 47,
          "metadata": {},
          "output_type": "execute_result"
        }
      ],
      "source": [
        "accuracyGNBEmbeddings=accuracy_score(y_test, y_pred)\n",
        "accuracyGNBEmbeddings"
      ]
    },
    {
      "cell_type": "code",
      "execution_count": null,
      "metadata": {
        "id": "DW5gkfhSj3KN",
        "outputId": "05879c32-231d-4d55-9d5c-5c513a9827ea"
      },
      "outputs": [
        {
          "data": {
            "text/plain": [
              "array([0.655902  , 0.30195599, 0.82917523])"
            ]
          },
          "execution_count": 48,
          "metadata": {},
          "output_type": "execute_result"
        }
      ],
      "source": [
        "f1_GNBEmbeddings=f1_score(y_test, y_pred, average=None)\n",
        "f1_GNBEmbeddings"
      ]
    },
    {
      "cell_type": "markdown",
      "metadata": {
        "id": "eIXv_CCS-TBo"
      },
      "source": [
        "#### 2. Multinomial Naive Bayes"
      ]
    },
    {
      "cell_type": "code",
      "execution_count": null,
      "metadata": {
        "id": "DZGZN7htEvDw",
        "outputId": "a024361f-c523-4da2-8087-8ea2945f940a"
      },
      "outputs": [
        {
          "data": {
            "text/plain": [
              "MultinomialNB()"
            ]
          },
          "execution_count": 50,
          "metadata": {},
          "output_type": "execute_result"
        }
      ],
      "source": [
        "#train the model\n",
        "from sklearn.naive_bayes import MultinomialNB\n",
        "clf=MultinomialNB()\n",
        "clf.fit(x_train,y_train)"
      ]
    },
    {
      "cell_type": "code",
      "execution_count": null,
      "metadata": {
        "id": "hxTJR31hEvDy"
      },
      "outputs": [],
      "source": [
        "#get the predictions\n",
        "y_pred=clf.predict(x_test)"
      ]
    },
    {
      "cell_type": "code",
      "execution_count": null,
      "metadata": {
        "id": "iPf9s-WCEvDz"
      },
      "outputs": [],
      "source": [
        " #generate the matrix\n",
        "matrix2=confusion_matrix(y_test,y_pred, labels=unique_labels)\n"
      ]
    },
    {
      "cell_type": "code",
      "execution_count": null,
      "metadata": {
        "id": "Ac1UTXzyEvD0",
        "outputId": "2429f247-a708-4207-b92b-00d8f9c1fe61"
      },
      "outputs": [
        {
          "data": {
            "image/png": "[encoded data removed]",
            "text/plain": [
              "<Figure size 432x288 with 1 Axes>"
            ]
          },
          "metadata": {},
          "output_type": "display_data"
        }
      ],
      "source": [
        "#visualise the matrix\n",
        "sns.heatmap(matrix2.T, square=True, annot=True, fmt='d', cbar=False,\n",
        "            xticklabels=unique_labels, yticklabels=unique_labels)\n",
        "plt.xlabel('true label')\n",
        "plt.ylabel('predicted label')\n",
        "plt.title('Multinomial NB model, reviews with embeddings')\n",
        "plt.show()"
      ]
    },
    {
      "cell_type": "code",
      "execution_count": null,
      "metadata": {
        "id": "_rYnepg3DBhr",
        "outputId": "86afec67-c9f4-4c68-a721-1bf4f9c5d0e5"
      },
      "outputs": [
        {
          "data": {
            "text/plain": [
              "0.5295292283875508"
            ]
          },
          "execution_count": 54,
          "metadata": {},
          "output_type": "execute_result"
        }
      ],
      "source": [
        "#calculate the evaluation metrics\n",
        "f1_macroMNNBEmbeddings=f1_score(y_test, y_pred, average='macro')\n",
        "f1_macroMNNBEmbeddings"
      ]
    },
    {
      "cell_type": "code",
      "execution_count": null,
      "metadata": {
        "id": "mi_Q5oPbDkkU",
        "outputId": "b69406b2-eb9b-4667-8426-b892a2095254"
      },
      "outputs": [
        {
          "data": {
            "text/plain": [
              "array([0.67993874, 0.00743494, 0.901214  ])"
            ]
          },
          "execution_count": 55,
          "metadata": {},
          "output_type": "execute_result"
        }
      ],
      "source": [
        "f1_MNNBEmbeddings=f1_score(y_test, y_pred, average=None)\n",
        "f1_MNNBEmbeddings"
      ]
    },
    {
      "cell_type": "code",
      "execution_count": null,
      "metadata": {
        "id": "b8woq7fDDzDy",
        "outputId": "1baa92b3-725c-4643-8115-e8ef503e7578"
      },
      "outputs": [
        {
          "data": {
            "text/plain": [
              "0.8260784696466914"
            ]
          },
          "execution_count": 56,
          "metadata": {},
          "output_type": "execute_result"
        }
      ],
      "source": [
        "accuracyMNNBEmbeddings=accuracy_score(y_test, y_pred)\n",
        "accuracyMNNBEmbeddings"
      ]
    },
    {
      "cell_type": "markdown",
      "metadata": {
        "id": "_yAVPlGB-TBr"
      },
      "source": [
        "#### 3. Decision Tree"
      ]
    },
    {
      "cell_type": "code",
      "execution_count": null,
      "metadata": {
        "id": "belzhaU8EvD1"
      },
      "outputs": [],
      "source": [
        "#import and create the classifier\n",
        "from sklearn.tree import DecisionTreeClassifier\n",
        "DTclf=DecisionTreeClassifier()"
      ]
    },
    {
      "cell_type": "code",
      "execution_count": null,
      "metadata": {
        "id": "9jtXABpyEvD1",
        "outputId": "de99d1d0-bbc2-4090-931b-d630f68856d8"
      },
      "outputs": [
        {
          "data": {
            "text/plain": [
              "DecisionTreeClassifier()"
            ]
          },
          "execution_count": 58,
          "metadata": {},
          "output_type": "execute_result"
        }
      ],
      "source": [
        "#train the classifier\n",
        "DTclf.fit(x_train,y_train)"
      ]
    },
    {
      "cell_type": "code",
      "execution_count": null,
      "metadata": {
        "id": "7K77Cn03EvD2"
      },
      "outputs": [],
      "source": [
        "#predict the values\n",
        "y_pred=DTclf.predict(x_test)"
      ]
    },
    {
      "cell_type": "code",
      "execution_count": null,
      "metadata": {
        "id": "Kj680zLPEvD3",
        "outputId": "2a4655c3-f2f6-46c2-8062-0a0506207c85"
      },
      "outputs": [
        {
          "data": {
            "image/png": "[encoded data removed]",
            "text/plain": [
              "<Figure size 432x288 with 1 Axes>"
            ]
          },
          "metadata": {},
          "output_type": "display_data"
        }
      ],
      "source": [
        "matrix3=confusion_matrix(y_test,y_pred, labels=unique_labels)\n",
        "sns.heatmap(matrix3.T, square=True, annot=True, fmt='d', cbar=False,\n",
        "            xticklabels=unique_labels, yticklabels=unique_labels)\n",
        "plt.xlabel('true label')\n",
        "plt.ylabel('predicted label')\n",
        "plt.title('Decision Tree Model, reviews with embeddings')\n",
        "plt.show()"
      ]
    },
    {
      "cell_type": "code",
      "execution_count": null,
      "metadata": {
        "id": "aCoQX-jEEjmw",
        "outputId": "7219bccd-04ac-48b9-d9e2-5bfee2c663e5"
      },
      "outputs": [
        {
          "data": {
            "text/plain": [
              "0.5268808581832636"
            ]
          },
          "execution_count": 61,
          "metadata": {},
          "output_type": "execute_result"
        }
      ],
      "source": [
        "#get the evaluation metrics\n",
        "f1_macroDTEmbeddings=f1_score(y_test, y_pred, average='macro')\n",
        "f1_macroDTEmbeddings"
      ]
    },
    {
      "cell_type": "code",
      "execution_count": null,
      "metadata": {
        "id": "bnaAI7o6E2PO",
        "outputId": "03d7f7ab-d118-4286-cea9-9a8cd5d385e9"
      },
      "outputs": [
        {
          "data": {
            "text/plain": [
              "array([0.54901961, 0.17748092, 0.85414205])"
            ]
          },
          "execution_count": 62,
          "metadata": {},
          "output_type": "execute_result"
        }
      ],
      "source": [
        "f1_DTEmbeddings=f1_score(y_test, y_pred, average=None)\n",
        "f1_DTEmbeddings"
      ]
    },
    {
      "cell_type": "code",
      "execution_count": null,
      "metadata": {
        "id": "A5I5h1-iFGSX",
        "outputId": "95974cff-8bb1-4047-eb4f-6aa2c88aec23"
      },
      "outputs": [
        {
          "data": {
            "text/plain": [
              "0.7378489166504002"
            ]
          },
          "execution_count": 63,
          "metadata": {},
          "output_type": "execute_result"
        }
      ],
      "source": [
        "accuracyDTEmbeddings=accuracy_score(y_test, y_pred)\n",
        "accuracyDTEmbeddings"
      ]
    },
    {
      "cell_type": "markdown",
      "metadata": {
        "id": "Gf0ckAvJ-TBs"
      },
      "source": [
        "#### 4. Suport Vector Machine"
      ]
    },
    {
      "cell_type": "code",
      "execution_count": null,
      "metadata": {
        "id": "yc0xEGJGEvD4"
      },
      "outputs": [],
      "source": [
        "#import and create a classifier\n",
        "from sklearn import svm\n",
        "clfsvc = svm.SVC(decision_function_shape='ovo')"
      ]
    },
    {
      "cell_type": "code",
      "execution_count": null,
      "metadata": {
        "id": "OKvjhMJwEvD5",
        "outputId": "5fd46710-c85b-4460-c01d-583ad533ddb6"
      },
      "outputs": [
        {
          "data": {
            "text/plain": [
              "SVC(decision_function_shape='ovo')"
            ]
          },
          "execution_count": 65,
          "metadata": {},
          "output_type": "execute_result"
        }
      ],
      "source": [
        "#train the classifier\n",
        "clfsvc.fit(x_train,y_train)"
      ]
    },
    {
      "cell_type": "code",
      "execution_count": null,
      "metadata": {
        "id": "fQ3AOvxZEvD6"
      },
      "outputs": [],
      "source": [
        "#get predictions\n",
        "y_pred=clfsvc.predict(x_test)"
      ]
    },
    {
      "cell_type": "code",
      "execution_count": null,
      "metadata": {
        "id": "6h7EDrMvEvD6",
        "outputId": "957636cc-66ed-4b2d-adcd-d6d0c2993922"
      },
      "outputs": [
        {
          "data": {
            "image/png": "[encoded data removed]",
            "text/plain": [
              "<Figure size 432x288 with 1 Axes>"
            ]
          },
          "metadata": {},
          "output_type": "display_data"
        }
      ],
      "source": [
        "#create and visualise the confusion matrix\n",
        "matrix4=confusion_matrix(y_test,y_pred, labels=unique_labels)\n",
        "sns.heatmap(matrix4.T, square=True, annot=True, fmt='d', cbar=False,\n",
        "            xticklabels=unique_labels, yticklabels=unique_labels)\n",
        "plt.xlabel('true label')\n",
        "plt.ylabel('predicted label')\n",
        "plt.title('Support Vector Machine model, reviews with embeddings')\n",
        "plt.savefig('svmConfMatrix.png')\n",
        "plt.show()"
      ]
    },
    {
      "cell_type": "code",
      "execution_count": null,
      "metadata": {
        "id": "UX28ZMBz2i1r",
        "outputId": "c718473b-3d0a-4243-cd85-e2d0305c158f"
      },
      "outputs": [
        {
          "data": {
            "text/plain": [
              "0.6421164556871379"
            ]
          },
          "execution_count": 68,
          "metadata": {},
          "output_type": "execute_result"
        }
      ],
      "source": [
        "#get the evaluation metrics\n",
        "f1_macroSVMEmbeddings=f1_score(y_test, y_pred, average='macro')\n",
        "f1_macroSVMEmbeddings"
      ]
    },
    {
      "cell_type": "code",
      "execution_count": null,
      "metadata": {
        "id": "X0dvMqsk22Tj",
        "outputId": "a005bf64-e11e-422a-f7ce-cf4df85df4bf"
      },
      "outputs": [
        {
          "data": {
            "text/plain": [
              "array([0.78205128, 0.2124431 , 0.93185499])"
            ]
          },
          "execution_count": 69,
          "metadata": {},
          "output_type": "execute_result"
        }
      ],
      "source": [
        "f1_SVMEmbeddings=f1_score(y_test, y_pred, average=None)\n",
        "f1_SVMEmbeddings"
      ]
    },
    {
      "cell_type": "code",
      "execution_count": null,
      "metadata": {
        "id": "Br2j3rYY3Eu0",
        "outputId": "fbf17ae0-3ef8-4790-ea9c-669d77434f27"
      },
      "outputs": [
        {
          "data": {
            "text/plain": [
              "0.8627757173531134"
            ]
          },
          "execution_count": 70,
          "metadata": {},
          "output_type": "execute_result"
        }
      ],
      "source": [
        "accuracySVMEmbeddings=accuracy_score(y_test, y_pred)\n",
        "accuracySVMEmbeddings"
      ]
    },
    {
      "cell_type": "markdown",
      "metadata": {
        "id": "XWsC8ND2-TBt"
      },
      "source": [
        "#### 5. Weighted Support Vector Machine"
      ]
    },
    {
      "cell_type": "code",
      "execution_count": null,
      "metadata": {
        "id": "YC9i8pQVEvD7"
      },
      "outputs": [],
      "source": [
        "#create the classifier with class weight\n",
        "clfsvcW = svm.SVC(decision_function_shape='ovo', class_weight={'Pos':7, 'Neu':1, 'Neg':1.5 })"
      ]
    },
    {
      "cell_type": "code",
      "execution_count": null,
      "metadata": {
        "id": "EG4PB0vhEvD8"
      },
      "outputs": [],
      "source": [
        "#train and predict\n",
        "clfsvcW.fit(x_train,y_train)\n",
        "y_pred=clfsvcW.predict(x_test)"
      ]
    },
    {
      "cell_type": "code",
      "execution_count": null,
      "metadata": {
        "id": "ktjqEdq_EvD8",
        "outputId": "76d76f50-c7fb-401a-8088-a5be32127c93"
      },
      "outputs": [
        {
          "data": {
            "image/png": "[encoded data removed]",
            "text/plain": [
              "<Figure size 432x288 with 1 Axes>"
            ]
          },
          "metadata": {},
          "output_type": "display_data"
        }
      ],
      "source": [
        "#create and visualise matrix\n",
        "matrix5=confusion_matrix(y_test,y_pred, labels=unique_labels)\n",
        "sns.heatmap(matrix5.T, square=True, annot=True, fmt='d', cbar=False,\n",
        "            xticklabels=unique_labels, yticklabels=unique_labels)\n",
        "plt.xlabel('true label')\n",
        "plt.ylabel('predicted label')\n",
        "plt.title('Suport Vector Machine model for unbalanced dataset, reviews with embeddings')\n",
        "plt.show()"
      ]
    },
    {
      "cell_type": "code",
      "execution_count": null,
      "metadata": {
        "id": "wHL-sZEQEvD9",
        "outputId": "5ba944cd-f71b-47b1-ed84-e329b412470a"
      },
      "outputs": [
        {
          "data": {
            "text/plain": [
              "0.6205847606008588"
            ]
          },
          "execution_count": 74,
          "metadata": {},
          "output_type": "execute_result"
        }
      ],
      "source": [
        "#get the evaluation metrics\n",
        "f1_macroSVMWembeddings=f1_score(y_test, y_pred, average='macro')\n",
        "f1_macroSVMWembeddings"
      ]
    },
    {
      "cell_type": "code",
      "execution_count": null,
      "metadata": {
        "id": "GHojmRcm5ZME",
        "outputId": "42c4569a-6ca4-4704-e03d-65a299aab075"
      },
      "outputs": [
        {
          "data": {
            "text/plain": [
              "array([0.77749684, 0.1525974 , 0.93166004])"
            ]
          },
          "execution_count": 75,
          "metadata": {},
          "output_type": "execute_result"
        }
      ],
      "source": [
        "f1_SVMWembeddings=f1_score(y_test, y_pred, average=None)\n",
        "f1_SVMWembeddings"
      ]
    },
    {
      "cell_type": "code",
      "execution_count": null,
      "metadata": {
        "id": "Hm2iW1WEEvD_",
        "outputId": "5d0f6e8f-467b-472f-8bd8-d187e67943a1"
      },
      "outputs": [
        {
          "data": {
            "text/plain": [
              "0.8610189342182315"
            ]
          },
          "execution_count": 76,
          "metadata": {},
          "output_type": "execute_result"
        }
      ],
      "source": [
        "accuracySVMWembeddings=accuracy_score(y_test, y_pred)\n",
        "accuracySVMWembeddings"
      ]
    },
    {
      "cell_type": "code",
      "execution_count": null,
      "metadata": {
        "id": "62MuDLCpEvED"
      },
      "outputs": [],
      "source": [
        "#get the stop words\n",
        "stops=set(stopwords.words('english'))"
      ]
    },
    {
      "cell_type": "code",
      "execution_count": null,
      "metadata": {
        "id": "iI1vBs18EvEE"
      },
      "outputs": [],
      "source": [
        "#define a function to lemmatise the reviews\n",
        "def lemmatise_clean_review(review):\n",
        "    word_list = nltk.word_tokenize(review)\n",
        "    lemmatized_review = ' '.join([wnl.lemmatize(w) for w in word_list if w not in stops])\n",
        "    return lemmatized_review"
      ]
    },
    {
      "cell_type": "code",
      "execution_count": null,
      "metadata": {
        "id": "jsoBkxXgEvEE"
      },
      "outputs": [],
      "source": [
        "#lemmatise the reviews\n",
        "cleaned_reviews= [lemmatise_clean_review(review) for review in simple_cleaned_reviews]"
      ]
    },
    {
      "cell_type": "code",
      "execution_count": null,
      "metadata": {
        "id": "NtxO-Ox-EvEF"
      },
      "outputs": [],
      "source": [
        "#join all the corpus in a single string\n",
        "all_reviews=' '.join(cleaned_reviews)"
      ]
    },
    {
      "cell_type": "code",
      "execution_count": null,
      "metadata": {
        "id": "Zw6JVIy2EvEF"
      },
      "outputs": [],
      "source": [
        "#Create a frequency distribution of the words in the corpus\n",
        "all_words = nltk.FreqDist(w for w in all_reviews.split())"
      ]
    },
    {
      "cell_type": "code",
      "execution_count": null,
      "metadata": {
        "id": "UTMP4FCe-TBv",
        "outputId": "537615f9-7970-46aa-816a-dc0068ed11b4"
      },
      "outputs": [
        {
          "data": {
            "text/plain": [
              "FreqDist({'hotel': 54050, 'room': 47779, 'great': 21485, 'n': 19112, 'good': 17491, 'staff': 16706, 'stay': 15601, 'night': 14577, 'day': 13484, 'time': 12981, ...})"
            ]
          },
          "execution_count": 82,
          "metadata": {},
          "output_type": "execute_result"
        }
      ],
      "source": [
        "all_words"
      ]
    },
    {
      "cell_type": "code",
      "execution_count": null,
      "metadata": {
        "id": "StC_0j24EvEH"
      },
      "outputs": [],
      "source": [
        "#generate a list of the 500 most common words\n",
        "N=500\n",
        "word_features = list(all_words)[:N]"
      ]
    },
    {
      "cell_type": "code",
      "execution_count": null,
      "metadata": {
        "id": "odLILfRP-TBv",
        "outputId": "0b0f6dd2-f5cd-47fd-ad1f-d1a99762d15e"
      },
      "outputs": [
        {
          "data": {
            "text/plain": [
              "['hotel',\n",
              " 'room',\n",
              " 'great',\n",
              " 'n',\n",
              " 'good',\n",
              " 'staff',\n",
              " 'stay',\n",
              " 'night',\n",
              " 'day',\n",
              " 'time',\n",
              " 'nice',\n",
              " 'location',\n",
              " 'service',\n",
              " 'beach',\n",
              " 'stayed',\n",
              " 'restaurant',\n",
              " 'breakfast',\n",
              " 'food',\n",
              " 'clean',\n",
              " 'place',\n",
              " 'resort',\n",
              " 'pool',\n",
              " 'like',\n",
              " 'really',\n",
              " 'bed',\n",
              " 'area',\n",
              " 'bar',\n",
              " 'friendly',\n",
              " 'people',\n",
              " 'small']"
            ]
          },
          "execution_count": 84,
          "metadata": {},
          "output_type": "execute_result"
        }
      ],
      "source": [
        "#show the 30 most common features\n",
        "word_features[:30]"
      ]
    },
    {
      "cell_type": "code",
      "execution_count": null,
      "metadata": {
        "id": "kMSw4VzGEvEI"
      },
      "outputs": [],
      "source": [
        "# build a function to extract the features from each review\n",
        "def review_features(review): \n",
        "    words = nltk.word_tokenize(review) \n",
        "    features = {}\n",
        "    for word in word_features:\n",
        "        features['contains({})'.format(word)] = (word in words)\n",
        "    return features"
      ]
    },
    {
      "cell_type": "code",
      "execution_count": null,
      "metadata": {
        "id": "nqXGiTpNEvEJ"
      },
      "outputs": [],
      "source": [
        "#extract the features from each review and store this in a list\n",
        "feature_reviews =[review_features(df_shuffled['simple_cleaned_reviews'][i]) for i in range(len(df))]"
      ]
    },
    {
      "cell_type": "code",
      "execution_count": null,
      "metadata": {
        "id": "tMH6Ic1WEvEJ"
      },
      "outputs": [],
      "source": [
        "#generate a list of sets\n",
        "features_labels_set=[(feature_reviews[i],df_shuffled['sentiment'][i]) for i in range(len(df))]"
      ]
    },
    {
      "cell_type": "code",
      "execution_count": null,
      "metadata": {
        "id": "t-ebSr6LEvEK"
      },
      "outputs": [],
      "source": [
        "#splitting the data into training and test sets\n",
        "train_data=features_labels_set[:int(len(df)*0.75)]\n",
        "test_data=features_labels_set[int(len(df)*0.75):]"
      ]
    },
    {
      "cell_type": "code",
      "execution_count": null,
      "metadata": {
        "id": "ibYkzGwmEvEN"
      },
      "outputs": [],
      "source": [
        "#generating only the x test set so we will be able to predict the values and evaluate the models on the same way as the previous models\n",
        "x_test=feature_reviews[int(len(df)*0.75):]"
      ]
    },
    {
      "cell_type": "code",
      "execution_count": null,
      "metadata": {
        "id": "crS56TLUEvEL"
      },
      "outputs": [],
      "source": [
        "#Generate the model and train it\n",
        "NBclassifier = nltk.NaiveBayesClassifier.train(train_data)"
      ]
    },
    {
      "cell_type": "code",
      "execution_count": null,
      "metadata": {
        "id": "mJk_kqy472Sm"
      },
      "outputs": [],
      "source": [
        "#generate the prediction for the test data\n",
        "y_pred=[NBclassifier.classify(review) for review in x_test]"
      ]
    },
    {
      "cell_type": "code",
      "execution_count": null,
      "metadata": {
        "id": "Ht1NWmND77RY"
      },
      "outputs": [],
      "source": [
        "#transfer it as an array\n",
        "y_pred_array=np.array(y_pred)"
      ]
    },
    {
      "cell_type": "code",
      "execution_count": null,
      "metadata": {
        "id": "MQ6twdEO8D33"
      },
      "outputs": [],
      "source": [
        "#get the real test labels so we will be able to compare\n",
        "y_test=df_shuffled['sentiment'][int(len(df)*0.75):].values"
      ]
    },
    {
      "cell_type": "code",
      "execution_count": null,
      "metadata": {
        "id": "NwF2iMRf8GWn",
        "outputId": "ab6cbe70-f963-484c-d2bf-9028962e5771"
      },
      "outputs": [
        {
          "data": {
            "image/png": "[encoded data removed]",
            "text/plain": [
              "<Figure size 432x288 with 1 Axes>"
            ]
          },
          "metadata": {},
          "output_type": "display_data"
        }
      ],
      "source": [
        "#generate the confusion matrix to evaluate\n",
        "matrix6=confusion_matrix(y_test,y_pred_array, labels=unique_labels)\n",
        "sns.heatmap(matrix6.T, square=True, annot=True, fmt='d', cbar=False,\n",
        "            xticklabels=unique_labels, yticklabels=unique_labels)\n",
        "plt.xlabel('true label')\n",
        "plt.ylabel('predicted label')\n",
        "plt.title('Naive Bayes, 500 features extraction')\n",
        "plt.show()"
      ]
    },
    {
      "cell_type": "code",
      "execution_count": null,
      "metadata": {
        "id": "9TY5lwj88p0h",
        "outputId": "fd061705-fff0-43da-c4f1-2e66234d89fb"
      },
      "outputs": [
        {
          "data": {
            "text/plain": [
              "0.7630294749170408"
            ]
          },
          "execution_count": 95,
          "metadata": {},
          "output_type": "execute_result"
        }
      ],
      "source": [
        "accuracyNBFeatureExtraction=nltk.classify.accuracy(NBclassifier, test_data)\n",
        "accuracyNBFeatureExtraction"
      ]
    },
    {
      "cell_type": "code",
      "execution_count": null,
      "metadata": {
        "id": "rUYQ3gaiFFtD",
        "outputId": "4b71174c-cd25-468a-a8af-59da3ef44058"
      },
      "outputs": [
        {
          "data": {
            "text/plain": [
              "0.5978625218154416"
            ]
          },
          "execution_count": 96,
          "metadata": {},
          "output_type": "execute_result"
        }
      ],
      "source": [
        "f1_macroNBFeatureExtraction=f1_score(y_test,y_pred_array, average='macro')\n",
        "f1_macroNBFeatureExtraction"
      ]
    },
    {
      "cell_type": "code",
      "execution_count": null,
      "metadata": {
        "id": "UtnjX3VKCILe",
        "outputId": "d3bf6092-eafc-4f66-9fb4-a36a698115ca"
      },
      "outputs": [
        {
          "data": {
            "text/plain": [
              "array([0.65794637, 0.27160494, 0.86403626])"
            ]
          },
          "execution_count": 97,
          "metadata": {},
          "output_type": "execute_result"
        }
      ],
      "source": [
        "f1_NBFeatureExtraction=f1_score(y_test,y_pred_array, average=None)\n",
        "f1_NBFeatureExtraction"
      ]
    },
    {
      "cell_type": "markdown",
      "metadata": {
        "id": "xj2sRyiG-TBx"
      },
      "source": [
        "#### The Naive Bayes classifier is capable of presenting the most informative features"
      ]
    },
    {
      "cell_type": "code",
      "execution_count": null,
      "metadata": {
        "id": "4QGxmWkOH1wA",
        "outputId": "c01028c9-5d94-4a24-da10-8833d9700dee"
      },
      "outputs": [
        {
          "name": "stdout",
          "output_type": "stream",
          "text": [
            "Most Informative Features\n",
            "         contains(dirty) = True              Neg : Pos    =     14.5 : 1.0\n",
            "         contains(worst) = True              Neg : Pos    =     13.5 : 1.0\n",
            "          contains(rude) = True              Neg : Pos    =      9.6 : 1.0\n",
            "       contains(perfect) = True              Pos : Neg    =      6.5 : 1.0\n",
            "         contains(loved) = True              Pos : Neg    =      6.2 : 1.0\n",
            "       contains(finally) = True              Neg : Pos    =      5.9 : 1.0\n",
            "        contains(superb) = True              Pos : Neg    =      5.8 : 1.0\n",
            "          contains(poor) = True              Neg : Pos    =      5.7 : 1.0\n",
            "          contains(told) = True              Neg : Pos    =      5.5 : 1.0\n",
            "      contains(spacious) = True              Pos : Neg    =      4.8 : 1.0\n",
            "     contains(fantastic) = True              Pos : Neg    =      4.8 : 1.0\n",
            "        contains(highly) = True              Pos : Neu    =      4.5 : 1.0\n",
            "        contains(modern) = True              Pos : Neg    =      4.4 : 1.0\n",
            "         contains(smell) = True              Neg : Pos    =      4.3 : 1.0\n",
            "       contains(manager) = True              Neg : Pos    =      4.3 : 1.0\n",
            "      contains(fabulous) = True              Pos : Neg    =      4.2 : 1.0\n",
            "         contains(paris) = True              Pos : Neg    =      4.2 : 1.0\n",
            "            contains(ok) = True              Neu : Pos    =      4.1 : 1.0\n",
            "        contains(toilet) = True              Neg : Pos    =      4.0 : 1.0\n",
            "     contains(excellent) = True              Pos : Neg    =      4.0 : 1.0\n",
            "     contains(wonderful) = True              Pos : Neg    =      4.0 : 1.0\n",
            "        contains(london) = True              Pos : Neg    =      3.9 : 1.0\n",
            "      contains(customer) = True              Neg : Pos    =      3.8 : 1.0\n",
            "         contains(phone) = True              Neg : Pos    =      3.8 : 1.0\n",
            "     contains(decorated) = True              Pos : Neg    =      3.6 : 1.0\n",
            "          contains(tiny) = True              Neg : Pos    =      3.6 : 1.0\n",
            "         contains(quiet) = True              Pos : Neg    =      3.5 : 1.0\n",
            "   contains(comfortable) = True              Pos : Neg    =      3.5 : 1.0\n",
            "       contains(average) = True              Neu : Pos    =      3.5 : 1.0\n",
            "        contains(square) = True              Pos : Neg    =      3.4 : 1.0\n",
            "         contains(metro) = True              Pos : Neg    =      3.2 : 1.0\n",
            "       contains(amazing) = True              Pos : Neg    =      3.1 : 1.0\n",
            "       contains(helpful) = True              Pos : Neg    =      3.0 : 1.0\n",
            "           contains(bad) = True              Neg : Pos    =      3.0 : 1.0\n",
            "         contains(later) = True              Neg : Pos    =      2.9 : 1.0\n",
            "   contains(reservation) = True              Neg : Pos    =      2.9 : 1.0\n",
            "      contains(distance) = True              Pos : Neg    =      2.9 : 1.0\n",
            "        contains(called) = True              Neg : Pos    =      2.9 : 1.0\n",
            "         contains(value) = True              Pos : Neg    =      2.9 : 1.0\n",
            "          contains(easy) = True              Pos : Neg    =      2.9 : 1.0\n",
            "          contains(sick) = True              Neg : Pos    =      2.9 : 1.0\n",
            "       contains(enjoyed) = True              Pos : Neg    =      2.9 : 1.0\n",
            "         contains(basic) = True              Neu : Pos    =      2.9 : 1.0\n",
            "        contains(trying) = True              Neg : Pos    =      2.8 : 1.0\n",
            "          contains(card) = True              Neg : Pos    =      2.8 : 1.0\n",
            "       contains(awesome) = True              Pos : Neg    =      2.8 : 1.0\n",
            "          contains(said) = True              Neg : Pos    =      2.8 : 1.0\n",
            "         contains(asked) = True              Neg : Pos    =      2.8 : 1.0\n",
            "     contains(selection) = True              Pos : Neg    =      2.8 : 1.0\n",
            "      contains(shopping) = True              Pos : Neg    =      2.8 : 1.0\n"
          ]
        }
      ],
      "source": [
        "NBclassifier.show_most_informative_features(50)"
      ]
    },
    {
      "cell_type": "markdown",
      "metadata": {
        "id": "AioQSXfK-TBx"
      },
      "source": [
        "#### 2. Decision Tree"
      ]
    },
    {
      "cell_type": "code",
      "execution_count": null,
      "metadata": {
        "id": "e3yxSHe_IOJO"
      },
      "outputs": [],
      "source": [
        "#Create the Decision Tree classifier, train the data and predict the values for the x_test dataset\n",
        "DTclassifier = nltk.DecisionTreeClassifier.train(train_data)\n",
        "y_pred=[DTclassifier.classify(review) for review in x_test]"
      ]
    },
    {
      "cell_type": "code",
      "execution_count": null,
      "metadata": {
        "id": "NdWNl3fYI7qW"
      },
      "outputs": [],
      "source": [
        "y_pred_array=np.array(y_pred)"
      ]
    },
    {
      "cell_type": "code",
      "execution_count": null,
      "metadata": {
        "id": "-P9nY_KiJBQ8",
        "outputId": "3d6dab8b-e8eb-4689-8a64-38ad4f7e3901"
      },
      "outputs": [
        {
          "data": {
            "image/png": "[encoded data removed]",
            "text/plain": [
              "<Figure size 432x288 with 1 Axes>"
            ]
          },
          "metadata": {},
          "output_type": "display_data"
        }
      ],
      "source": [
        "#visualise the results\n",
        "matrix7=confusion_matrix(y_test,y_pred_array, labels=unique_labels)\n",
        "sns.heatmap(matrix7.T, square=True, annot=True, fmt='d', cbar=False,\n",
        "            xticklabels=unique_labels, yticklabels=unique_labels)\n",
        "plt.xlabel('true label')\n",
        "plt.ylabel('predicted label')\n",
        "plt.title('Decision Tree model, 500 feature extraction')\n",
        "plt.show()"
      ]
    },
    {
      "cell_type": "code",
      "execution_count": null,
      "metadata": {
        "id": "ZcRwNePwLusr",
        "outputId": "98f420ad-c94f-4937-a2fa-a35c31d53da6"
      },
      "outputs": [
        {
          "data": {
            "text/plain": [
              "0.7764981456178021"
            ]
          },
          "execution_count": 103,
          "metadata": {},
          "output_type": "execute_result"
        }
      ],
      "source": [
        "accuracyDTFeatureExtraction=nltk.classify.accuracy(DTclassifier, test_data)\n",
        "accuracyDTFeatureExtraction"
      ]
    },
    {
      "cell_type": "code",
      "execution_count": null,
      "metadata": {
        "id": "1N9pZlaIL0xb",
        "outputId": "0cf3f940-d659-4fc6-b6c3-78ac2706b027"
      },
      "outputs": [
        {
          "data": {
            "text/plain": [
              "0.4257195804893994"
            ]
          },
          "execution_count": 104,
          "metadata": {},
          "output_type": "execute_result"
        }
      ],
      "source": [
        "f1_macroDTFeatureExtraction=f1_score(y_test,y_pred_array, average='macro')\n",
        "f1_macroDTFeatureExtraction"
      ]
    },
    {
      "cell_type": "code",
      "execution_count": null,
      "metadata": {
        "id": "e7Cka4dpMC4t",
        "outputId": "738dbe75-b6c6-485e-93f4-325ff9dfc89b"
      },
      "outputs": [
        {
          "data": {
            "text/plain": [
              "array([0.38873239, 0.01420959, 0.87421676])"
            ]
          },
          "execution_count": 105,
          "metadata": {},
          "output_type": "execute_result"
        }
      ],
      "source": [
        "f1_DTFeatureExtraction=f1_score(y_test,y_pred_array, average=None)\n",
        "f1_DTFeatureExtraction"
      ]
    },
    {
      "cell_type": "code",
      "execution_count": null,
      "metadata": {
        "id": "lCkcBO4zO2s8"
      },
      "outputs": [],
      "source": [
        "feature_reviews_list_of_list=[list(review.values()) for review in feature_reviews ]"
      ]
    },
    {
      "cell_type": "code",
      "execution_count": null,
      "metadata": {
        "id": "fLCtlrtsPMpM"
      },
      "outputs": [],
      "source": [
        "feature_reviews_array=np.array(feature_reviews_list_of_list)"
      ]
    },
    {
      "cell_type": "code",
      "execution_count": null,
      "metadata": {
        "id": "iuWPZS09PPXG"
      },
      "outputs": [],
      "source": [
        "x_train=feature_reviews_array[:int(len(df)*0.75)]\n",
        "x_test=feature_reviews_array[int(len(df)*0.75):]\n",
        "y_train=labels[:int(len(df)*0.75)]\n",
        "y_test=labels[int(len(df)*0.75):]"
      ]
    },
    {
      "cell_type": "code",
      "execution_count": null,
      "metadata": {
        "id": "norXu_sHPVy8",
        "outputId": "8d5de816-a2aa-40b8-e8b5-024969950c72"
      },
      "outputs": [
        {
          "data": {
            "text/plain": [
              "SVC(decision_function_shape='ovo')"
            ]
          },
          "execution_count": 109,
          "metadata": {},
          "output_type": "execute_result"
        }
      ],
      "source": [
        "clfsvc_500_features = svm.SVC(decision_function_shape='ovo')\n",
        "clfsvc_500_features.fit(x_train,y_train)"
      ]
    },
    {
      "cell_type": "code",
      "execution_count": null,
      "metadata": {
        "id": "xx1sqrYOPZ2k"
      },
      "outputs": [],
      "source": [
        "y_pred=clfsvc_500_features.predict(x_test)"
      ]
    },
    {
      "cell_type": "code",
      "execution_count": null,
      "metadata": {
        "id": "vg-82M1aUJnr",
        "outputId": "a57f050d-d165-498d-97d0-a6635c3a0a8a"
      },
      "outputs": [
        {
          "data": {
            "image/png": "[encoded data removed]",
            "text/plain": [
              "<Figure size 432x288 with 1 Axes>"
            ]
          },
          "metadata": {},
          "output_type": "display_data"
        }
      ],
      "source": [
        "matrix8=confusion_matrix(y_test,y_pred, labels=unique_labels)\n",
        "sns.heatmap(matrix8.T, square=True, annot=True, fmt='d', cbar=False,\n",
        "            xticklabels=unique_labels, yticklabels=unique_labels)\n",
        "plt.xlabel('true label')\n",
        "plt.ylabel('predicted label')\n",
        "plt.title('Suport Vector Machine model, 500 feature extraction')\n",
        "plt.show()"
      ]
    },
    {
      "cell_type": "code",
      "execution_count": null,
      "metadata": {
        "id": "hZttGWUhUlYL",
        "outputId": "e329d225-5d98-4bc7-dedf-802c9202c8ab"
      },
      "outputs": [
        {
          "data": {
            "text/plain": [
              "0.8395471403474527"
            ]
          },
          "execution_count": 112,
          "metadata": {},
          "output_type": "execute_result"
        }
      ],
      "source": [
        "accuracySVMFeatureExtraction=accuracy_score(y_test, y_pred)\n",
        "accuracySVMFeatureExtraction"
      ]
    },
    {
      "cell_type": "code",
      "execution_count": null,
      "metadata": {
        "id": "SqCzu-eqU7dD",
        "outputId": "550548c6-afcd-4e9e-96df-c7075d40798e"
      },
      "outputs": [
        {
          "data": {
            "text/plain": [
              "0.5906668996966675"
            ]
          },
          "execution_count": 113,
          "metadata": {},
          "output_type": "execute_result"
        }
      ],
      "source": [
        "f1_macroSVMFeatureExtraction=f1_score(y_test, y_pred, average='macro')\n",
        "f1_macroSVMFeatureExtraction"
      ]
    },
    {
      "cell_type": "code",
      "execution_count": null,
      "metadata": {
        "id": "c3b5toz5VY4r",
        "outputId": "79a189ae-73ae-44bf-b86f-8bb32a1a7db1"
      },
      "outputs": [
        {
          "data": {
            "text/plain": [
              "array([0.72146739, 0.13680782, 0.91372549])"
            ]
          },
          "execution_count": 114,
          "metadata": {},
          "output_type": "execute_result"
        }
      ],
      "source": [
        "f1_SVMFeatureExtraction=f1_score(y_test, y_pred, average=None)\n",
        "f1_SVMFeatureExtraction"
      ]
    },
    {
      "cell_type": "code",
      "execution_count": null,
      "metadata": {
        "id": "UtY8kfLyVjq2"
      },
      "outputs": [],
      "source": [
        "import textblob\n",
        "from textblob import TextBlob"
      ]
    },
    {
      "cell_type": "code",
      "execution_count": null,
      "metadata": {
        "id": "3N3K6ag8V3g0"
      },
      "outputs": [],
      "source": [
        "#define a function to predict the sentiment using the polarity value from the TextBlob model. \n",
        "#The reviews which polarity value are close to 0 will be classified as neutral\n",
        "#The reviews with positive polarity higher than 0.1 will be classified as Positives\n",
        "#And the reviews with negative polarity, lower than 0.1 will be classified as Negatives\n",
        "def predict_sentiment(review):\n",
        "    result=TextBlob(review).sentiment\n",
        "    if result.polarity >0.1:\n",
        "        sentiment='Pos'\n",
        "    elif result.polarity<-0.1:\n",
        "        sentiment='Neg'\n",
        "    else:\n",
        "        sentiment='Neu'\n",
        "    return sentiment"
      ]
    },
    {
      "cell_type": "code",
      "execution_count": null,
      "metadata": {
        "id": "_7FFk98EV51c"
      },
      "outputs": [],
      "source": [
        "#predict the sentiment for each of the reviews\n",
        "text_blob_sentiments=[predict_sentiment(df_shuffled['Review'][i]) for i in range(len(df)) ]"
      ]
    },
    {
      "cell_type": "code",
      "execution_count": null,
      "metadata": {
        "id": "YaFjQGOfV-Ar"
      },
      "outputs": [],
      "source": [
        "#get the real sentiment\n",
        "real_sentiments=list(df_shuffled['sentiment'])"
      ]
    },
    {
      "cell_type": "code",
      "execution_count": null,
      "metadata": {
        "id": "n19WPi3pWHdj",
        "outputId": "19f2cc83-b4f8-4b49-d9c7-57a83c5c41d6"
      },
      "outputs": [
        {
          "data": {
            "image/png": "[encoded data removed]",
            "text/plain": [
              "<Figure size 432x288 with 1 Axes>"
            ]
          },
          "metadata": {},
          "output_type": "display_data"
        }
      ],
      "source": [
        "#visualise the results\n",
        "matrix9=confusion_matrix(real_sentiments,text_blob_sentiments, labels=unique_labels)\n",
        "sns.heatmap(matrix9.T, square=True, annot=True, fmt='d', cbar=False,\n",
        "            xticklabels=unique_labels, yticklabels=unique_labels)\n",
        "plt.xlabel('true label')\n",
        "plt.ylabel('predicted label')\n",
        "plt.title('Textblob lexicon for sentiment analysis')\n",
        "plt.show()"
      ]
    },
    {
      "cell_type": "code",
      "execution_count": null,
      "metadata": {
        "id": "mRD8XnBBWJ3r",
        "outputId": "a3a57788-0321-4db2-e613-771a59936e9f"
      },
      "outputs": [
        {
          "data": {
            "text/plain": [
              "0.7671172709970231"
            ]
          },
          "execution_count": 120,
          "metadata": {},
          "output_type": "execute_result"
        }
      ],
      "source": [
        "#get the evaluation metrics\n",
        "accuracyTextBlobLexicon=accuracy_score(real_sentiments, text_blob_sentiments)\n",
        "accuracyTextBlobLexicon"
      ]
    },
    {
      "cell_type": "code",
      "execution_count": null,
      "metadata": {
        "id": "G1LSzfmDW-jL",
        "outputId": "5d5e336c-d8b3-4a0f-badb-ec4761b45731"
      },
      "outputs": [
        {
          "data": {
            "text/plain": [
              "0.4623651844081122"
            ]
          },
          "execution_count": 121,
          "metadata": {},
          "output_type": "execute_result"
        }
      ],
      "source": [
        "f1_macroTextBlobLexicon=f1_score(real_sentiments, text_blob_sentiments, average='macro')\n",
        "f1_macroTextBlobLexicon"
      ]
    },
    {
      "cell_type": "code",
      "execution_count": null,
      "metadata": {
        "id": "9RBCEdSjXOKz",
        "outputId": "612607df-38a5-481d-e9ab-a53fa5770a1c"
      },
      "outputs": [
        {
          "data": {
            "text/plain": [
              "array([0.30609058, 0.18119736, 0.89980762])"
            ]
          },
          "execution_count": 122,
          "metadata": {},
          "output_type": "execute_result"
        }
      ],
      "source": [
        "f1_TextBlobLexicon=f1_score(real_sentiments, text_blob_sentiments, average=None)\n",
        "f1_TextBlobLexicon"
      ]
    },
    {
      "cell_type": "markdown",
      "metadata": {
        "id": "kDdsLrcL-TB1"
      },
      "source": [
        "#### 2. NLTK "
      ]
    },
    {
      "cell_type": "code",
      "execution_count": null,
      "metadata": {
        "id": "vUAjCrblXuT7",
        "outputId": "40a02b55-438f-4e33-aafa-d12c512d5c3d"
      },
      "outputs": [
        {
          "name": "stderr",
          "output_type": "stream",
          "text": [
            "[nltk_data] Downloading package vader_lexicon to\n",
            "[nltk_data]     C:\\Users\\kraca\\AppData\\Roaming\\nltk_data...\n",
            "[nltk_data]   Package vader_lexicon is already up-to-date!\n"
          ]
        }
      ],
      "source": [
        "from nltk.sentiment.vader import SentimentIntensityAnalyzer\n",
        "nltk.download('vader_lexicon')\n",
        "sia=SentimentIntensityAnalyzer()"
      ]
    },
    {
      "cell_type": "code",
      "execution_count": null,
      "metadata": {
        "id": "Xofpmrk7YIL6"
      },
      "outputs": [],
      "source": [
        "#define a function to predict the sentiment using the polarity value from the NLTK model built with Vader lexicon. \n",
        "#The reviews which polarity value are close to 0 will be classified as neutral\n",
        "#The reviews with positive polarity higher than 0.1 will be classified as Positives\n",
        "#And the reviews with negative polarity, lower than 0.1 will be classified as Negatives\n",
        "def predict_vader_sentiment(review):\n",
        "    result=sia.polarity_scores(review)['compound']\n",
        "    if result >0.1:\n",
        "        sentiment='Pos'\n",
        "    elif result <-0.1:\n",
        "        sentiment='Neg'\n",
        "    else:\n",
        "        sentiment='Neu'\n",
        "    return sentiment"
      ]
    },
    {
      "cell_type": "code",
      "execution_count": null,
      "metadata": {
        "id": "qf57SEQpYOKz"
      },
      "outputs": [],
      "source": [
        "vader_sentiments=[predict_vader_sentiment(df_shuffled['Review'][i]) for i in range(len(df))]"
      ]
    },
    {
      "cell_type": "code",
      "execution_count": null,
      "metadata": {
        "id": "_Txyh2QvYQzS",
        "outputId": "08b079e3-0d6f-4fe6-dc58-a4d034ad8ece"
      },
      "outputs": [
        {
          "data": {
            "image/png": "[encoded data removed]",
            "text/plain": [
              "<Figure size 432x288 with 1 Axes>"
            ]
          },
          "metadata": {},
          "output_type": "display_data"
        }
      ],
      "source": [
        "matrix10=confusion_matrix(real_sentiments,vader_sentiments, labels=unique_labels)\n",
        "sns.heatmap(matrix10.T, square=True, annot=True, fmt='d', cbar=False,\n",
        "            xticklabels=unique_labels, yticklabels=unique_labels)\n",
        "plt.xlabel('true label')\n",
        "plt.ylabel('predicted label')\n",
        "plt.title('NLTK vader lexicon for sentiment analysis')\n",
        "plt.show()"
      ]
    },
    {
      "cell_type": "code",
      "execution_count": null,
      "metadata": {
        "id": "ESuGLRnqY5WC",
        "outputId": "f0d2b54e-0146-4279-b234-29c957f8508e"
      },
      "outputs": [
        {
          "data": {
            "text/plain": [
              "0.794251134644478"
            ]
          },
          "execution_count": 127,
          "metadata": {},
          "output_type": "execute_result"
        }
      ],
      "source": [
        "accuracyNLTKVaderLexicon=accuracy_score(real_sentiments, vader_sentiments)\n",
        "accuracyNLTKVaderLexicon"
      ]
    },
    {
      "cell_type": "code",
      "execution_count": null,
      "metadata": {
        "id": "vzWrzWNkZMOz",
        "outputId": "8a5bb08d-f91c-416f-8c6d-990540a022db"
      },
      "outputs": [
        {
          "data": {
            "text/plain": [
              "0.48134791744476607"
            ]
          },
          "execution_count": 128,
          "metadata": {},
          "output_type": "execute_result"
        }
      ],
      "source": [
        "f1_macroNLTKVaderLexicon=f1_score(real_sentiments, vader_sentiments, average='macro')\n",
        "f1_macroNLTKVaderLexicon"
      ]
    },
    {
      "cell_type": "code",
      "execution_count": null,
      "metadata": {
        "id": "h4FdjXPaZs2L",
        "outputId": "06db97cd-df61-470a-fb4c-1067d1e91555"
      },
      "outputs": [
        {
          "data": {
            "text/plain": [
              "array([0.53993678, 0.0203476 , 0.88375937])"
            ]
          },
          "execution_count": 129,
          "metadata": {},
          "output_type": "execute_result"
        }
      ],
      "source": [
        "f1_NLTKVaderLexicon=f1_score(real_sentiments, vader_sentiments, average=None)\n",
        "f1_NLTKVaderLexicon"
      ]
    },
    {
      "cell_type": "code",
      "execution_count": null,
      "metadata": {
        "id": "BMYgBmGWjoTd"
      },
      "outputs": [],
      "source": [
        "#join all the f1 arrays into a single array\n",
        "f1_summary=np.concatenate((f1NB,f1_GNBEmbeddings,f1_MNNBEmbeddings,f1_DTEmbeddings,f1_SVMEmbeddings,\n",
        "                                  f1_SVMWembeddings,f1_NBFeatureExtraction,f1_DTFeatureExtraction,\n",
        "                                  f1_SVMFeatureExtraction, f1_TextBlobLexicon, f1_NLTKVaderLexicon), axis=0)\n",
        "#reshape it to the correct shape\n",
        "f1_summary=f1_summary.reshape((11,3))\n",
        "#create a dataframe\n",
        "f1_df=pd.DataFrame(f1_summary, columns=[\"f1_'Neg'\", \"f1_'Neu\",\"f1_'Pos\"])"
      ]
    },
    {
      "cell_type": "code",
      "execution_count": null,
      "metadata": {
        "id": "zwdKe_fjamk7",
        "outputId": "0126cf6a-5ff7-40fd-a96f-99aa0b5a3537"
      },
      "outputs": [
        {
          "data": {
            "text/html": [
              "<div>\n",
              "<style scoped>\n",
              "    .dataframe tbody tr th:only-of-type {\n",
              "        vertical-align: middle;\n",
              "    }\n",
              "\n",
              "    .dataframe tbody tr th {\n",
              "        vertical-align: top;\n",
              "    }\n",
              "\n",
              "    .dataframe thead th {\n",
              "        text-align: right;\n",
              "    }\n",
              "</style>\n",
              "<table border=\"1\" class=\"dataframe\">\n",
              "  <thead>\n",
              "    <tr style=\"text-align: right;\">\n",
              "      <th></th>\n",
              "      <th>Pre-processing</th>\n",
              "      <th>Model</th>\n",
              "      <th>Accuracy</th>\n",
              "      <th>f1_macroaveraging</th>\n",
              "      <th>f1_'Neg'</th>\n",
              "      <th>f1_'Neu</th>\n",
              "      <th>f1_'Pos</th>\n",
              "    </tr>\n",
              "  </thead>\n",
              "  <tbody>\n",
              "    <tr>\n",
              "      <th>0</th>\n",
              "      <td>bag of words</td>\n",
              "      <td>Gaussian Naive Bayes</td>\n",
              "      <td>0.716768</td>\n",
              "      <td>0.593500</td>\n",
              "      <td>0.648829</td>\n",
              "      <td>0.297899</td>\n",
              "      <td>0.833772</td>\n",
              "    </tr>\n",
              "    <tr>\n",
              "      <th>1</th>\n",
              "      <td>embedding, lemmatisation and BoW</td>\n",
              "      <td>Gaussian Naive Bayes</td>\n",
              "      <td>0.714620</td>\n",
              "      <td>0.595678</td>\n",
              "      <td>0.655902</td>\n",
              "      <td>0.301956</td>\n",
              "      <td>0.829175</td>\n",
              "    </tr>\n",
              "    <tr>\n",
              "      <th>2</th>\n",
              "      <td>embedding, lemmatisation and BoW</td>\n",
              "      <td>Multinomial Naive Bayes</td>\n",
              "      <td>0.826078</td>\n",
              "      <td>0.529529</td>\n",
              "      <td>0.679939</td>\n",
              "      <td>0.007435</td>\n",
              "      <td>0.901214</td>\n",
              "    </tr>\n",
              "    <tr>\n",
              "      <th>3</th>\n",
              "      <td>embedding, lemmatisation and BoW</td>\n",
              "      <td>Decision Tree</td>\n",
              "      <td>0.737849</td>\n",
              "      <td>0.526881</td>\n",
              "      <td>0.549020</td>\n",
              "      <td>0.177481</td>\n",
              "      <td>0.854142</td>\n",
              "    </tr>\n",
              "    <tr>\n",
              "      <th>4</th>\n",
              "      <td>embedding, lemmatisation and BoW</td>\n",
              "      <td>Support Vector Machine</td>\n",
              "      <td>0.862776</td>\n",
              "      <td>0.642116</td>\n",
              "      <td>0.782051</td>\n",
              "      <td>0.212443</td>\n",
              "      <td>0.931855</td>\n",
              "    </tr>\n",
              "    <tr>\n",
              "      <th>5</th>\n",
              "      <td>embedding, lemmatisation and BoW</td>\n",
              "      <td>SVM with weights</td>\n",
              "      <td>0.861019</td>\n",
              "      <td>0.620585</td>\n",
              "      <td>0.777497</td>\n",
              "      <td>0.152597</td>\n",
              "      <td>0.931660</td>\n",
              "    </tr>\n",
              "    <tr>\n",
              "      <th>6</th>\n",
              "      <td>lemmatisation and feature extraction</td>\n",
              "      <td>Naive Bayes</td>\n",
              "      <td>0.763029</td>\n",
              "      <td>0.597863</td>\n",
              "      <td>0.657946</td>\n",
              "      <td>0.271605</td>\n",
              "      <td>0.864036</td>\n",
              "    </tr>\n",
              "    <tr>\n",
              "      <th>7</th>\n",
              "      <td>lemmatisation and feature extraction</td>\n",
              "      <td>Decision Tree</td>\n",
              "      <td>0.776498</td>\n",
              "      <td>0.425720</td>\n",
              "      <td>0.388732</td>\n",
              "      <td>0.014210</td>\n",
              "      <td>0.874217</td>\n",
              "    </tr>\n",
              "    <tr>\n",
              "      <th>8</th>\n",
              "      <td>lemmatisation and feature extraction</td>\n",
              "      <td>Support Vector Machine</td>\n",
              "      <td>0.839547</td>\n",
              "      <td>0.590667</td>\n",
              "      <td>0.721467</td>\n",
              "      <td>0.136808</td>\n",
              "      <td>0.913725</td>\n",
              "    </tr>\n",
              "    <tr>\n",
              "      <th>9</th>\n",
              "      <td></td>\n",
              "      <td>TextBlob Lexicon</td>\n",
              "      <td>0.767117</td>\n",
              "      <td>0.462365</td>\n",
              "      <td>0.306091</td>\n",
              "      <td>0.181197</td>\n",
              "      <td>0.899808</td>\n",
              "    </tr>\n",
              "    <tr>\n",
              "      <th>10</th>\n",
              "      <td></td>\n",
              "      <td>NLTK Vader Lexicon</td>\n",
              "      <td>0.794251</td>\n",
              "      <td>0.481348</td>\n",
              "      <td>0.539937</td>\n",
              "      <td>0.020348</td>\n",
              "      <td>0.883759</td>\n",
              "    </tr>\n",
              "  </tbody>\n",
              "</table>\n",
              "</div>"
            ],
            "text/plain": [
              "                          Pre-processing                    Model  Accuracy  \\\n",
              "0                           bag of words     Gaussian Naive Bayes  0.716768   \n",
              "1       embedding, lemmatisation and BoW     Gaussian Naive Bayes  0.714620   \n",
              "2       embedding, lemmatisation and BoW  Multinomial Naive Bayes  0.826078   \n",
              "3       embedding, lemmatisation and BoW            Decision Tree  0.737849   \n",
              "4       embedding, lemmatisation and BoW   Support Vector Machine  0.862776   \n",
              "5       embedding, lemmatisation and BoW         SVM with weights  0.861019   \n",
              "6   lemmatisation and feature extraction              Naive Bayes  0.763029   \n",
              "7   lemmatisation and feature extraction            Decision Tree  0.776498   \n",
              "8   lemmatisation and feature extraction   Support Vector Machine  0.839547   \n",
              "9                                                TextBlob Lexicon  0.767117   \n",
              "10                                             NLTK Vader Lexicon  0.794251   \n",
              "\n",
              "    f1_macroaveraging  f1_'Neg'   f1_'Neu   f1_'Pos  \n",
              "0            0.593500  0.648829  0.297899  0.833772  \n",
              "1            0.595678  0.655902  0.301956  0.829175  \n",
              "2            0.529529  0.679939  0.007435  0.901214  \n",
              "3            0.526881  0.549020  0.177481  0.854142  \n",
              "4            0.642116  0.782051  0.212443  0.931855  \n",
              "5            0.620585  0.777497  0.152597  0.931660  \n",
              "6            0.597863  0.657946  0.271605  0.864036  \n",
              "7            0.425720  0.388732  0.014210  0.874217  \n",
              "8            0.590667  0.721467  0.136808  0.913725  \n",
              "9            0.462365  0.306091  0.181197  0.899808  \n",
              "10           0.481348  0.539937  0.020348  0.883759  "
            ]
          },
          "execution_count": 131,
          "metadata": {},
          "output_type": "execute_result"
        }
      ],
      "source": [
        "#create a dataframe to summarise the preprocessing techniques, the models and the evaluation metrics\n",
        "summary=pd.DataFrame({'Pre-processing':['bag of words','embedding, lemmatisation and BoW','embedding, lemmatisation and BoW',\n",
        "                                       'embedding, lemmatisation and BoW','embedding, lemmatisation and BoW',\n",
        "                                       'embedding, lemmatisation and BoW','lemmatisation and feature extraction',\n",
        "                                       'lemmatisation and feature extraction','lemmatisation and feature extraction',\" \",\" \"],\n",
        "                      'Model':['Gaussian Naive Bayes','Gaussian Naive Bayes','Multinomial Naive Bayes', 'Decision Tree',\n",
        "                               'Support Vector Machine', 'SVM with weights','Naive Bayes','Decision Tree',\n",
        "                               'Support Vector Machine','TextBlob Lexicon', 'NLTK Vader Lexicon'],\n",
        "                      'Accuracy':[accuracyNB,accuracyGNBEmbeddings,accuracyMNNBEmbeddings,accuracyDTEmbeddings,accuracySVMEmbeddings,\n",
        "                                  accuracySVMWembeddings,accuracyNBFeatureExtraction, accuracyDTFeatureExtraction,\n",
        "                                   accuracySVMFeatureExtraction, accuracyTextBlobLexicon,\n",
        "                                  accuracyNLTKVaderLexicon],\n",
        "                     'f1_macroaveraging':[f1_macroNB,f1_macroGNBEmbeddings,f1_macroMNNBEmbeddings,f1_macroDTEmbeddings,f1_macroSVMEmbeddings,\n",
        "                                  f1_macroSVMWembeddings,f1_macroNBFeatureExtraction,f1_macroDTFeatureExtraction,\n",
        "                                  f1_macroSVMFeatureExtraction, f1_macroTextBlobLexicon, f1_macroNLTKVaderLexicon]})\n",
        "summary=pd.concat((summary,f1_df), axis=1)\n",
        "summary"
      ]
    },
    {
      "cell_type": "code",
      "execution_count": null,
      "metadata": {
        "id": "0ylrJGPs-TB3"
      },
      "outputs": [],
      "source": []
    }
  ],
  "metadata": {
    "colab": {
      "provenance": []
    },
    "kernelspec": {
      "display_name": "Python 3 (ipykernel)",
      "language": "python",
      "name": "python3"
    },
    "language_info": {
      "codemirror_mode": {
        "name": "ipython",
        "version": 3
      },
      "file_extension": ".py",
      "mimetype": "text/x-python",
      "name": "python",
      "nbconvert_exporter": "python",
      "pygments_lexer": "ipython3",
      "version": "3.7.4"
    }
  },
  "nbformat": 4,
  "nbformat_minor": 0
}